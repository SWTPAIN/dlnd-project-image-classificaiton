{
 "cells": [
  {
   "cell_type": "markdown",
   "metadata": {
    "collapsed": true,
    "deletable": true,
    "editable": true
   },
   "source": [
    "# Image Classification\n",
    "In this project, you'll classify images from the [CIFAR-10 dataset](https://www.cs.toronto.edu/~kriz/cifar.html).  The dataset consists of airplanes, dogs, cats, and other objects. You'll preprocess the images, then train a convolutional neural network on all the samples. The images need to be normalized and the labels need to be one-hot encoded.  You'll get to apply what you learned and build a convolutional, max pooling, dropout, and fully connected layers.  At the end, you'll get to see your neural network's predictions on the sample images.\n",
    "## Get the Data\n",
    "Run the following cell to download the [CIFAR-10 dataset for python](https://www.cs.toronto.edu/~kriz/cifar-10-python.tar.gz)."
   ]
  },
  {
   "cell_type": "code",
   "execution_count": 192,
   "metadata": {
    "collapsed": false,
    "deletable": true,
    "editable": true
   },
   "outputs": [
    {
     "name": "stdout",
     "output_type": "stream",
     "text": [
      "All files found!\n"
     ]
    }
   ],
   "source": [
    "\"\"\"\n",
    "DON'T MODIFY ANYTHING IN THIS CELL THAT IS BELOW THIS LINE\n",
    "\"\"\"\n",
    "from urllib.request import urlretrieve\n",
    "from os.path import isfile, isdir\n",
    "from tqdm import tqdm\n",
    "import problem_unittests as tests\n",
    "import tarfile\n",
    "\n",
    "cifar10_dataset_folder_path = 'cifar-10-batches-py'\n",
    "\n",
    "# Use Floyd's cifar-10 dataset if present\n",
    "floyd_cifar10_location = '/input/cifar-10/python.tar.gz'\n",
    "if isfile(floyd_cifar10_location):\n",
    "    tar_gz_path = floyd_cifar10_location\n",
    "else:\n",
    "    tar_gz_path = 'cifar-10-python.tar.gz'\n",
    "\n",
    "class DLProgress(tqdm):\n",
    "    last_block = 0\n",
    "\n",
    "    def hook(self, block_num=1, block_size=1, total_size=None):\n",
    "        self.total = total_size\n",
    "        self.update((block_num - self.last_block) * block_size)\n",
    "        self.last_block = block_num\n",
    "\n",
    "if not isfile(tar_gz_path):\n",
    "    with DLProgress(unit='B', unit_scale=True, miniters=1, desc='CIFAR-10 Dataset') as pbar:\n",
    "        urlretrieve(\n",
    "            'https://www.cs.toronto.edu/~kriz/cifar-10-python.tar.gz',\n",
    "            tar_gz_path,\n",
    "            pbar.hook)\n",
    "\n",
    "if not isdir(cifar10_dataset_folder_path):\n",
    "    with tarfile.open(tar_gz_path) as tar:\n",
    "        tar.extractall()\n",
    "        tar.close()\n",
    "\n",
    "\n",
    "tests.test_folder_path(cifar10_dataset_folder_path)"
   ]
  },
  {
   "cell_type": "markdown",
   "metadata": {
    "deletable": true,
    "editable": true
   },
   "source": [
    "## Explore the Data\n",
    "The dataset is broken into batches to prevent your machine from running out of memory.  The CIFAR-10 dataset consists of 5 batches, named `data_batch_1`, `data_batch_2`, etc.. Each batch contains the labels and images that are one of the following:\n",
    "* airplane\n",
    "* automobile\n",
    "* bird\n",
    "* cat\n",
    "* deer\n",
    "* dog\n",
    "* frog\n",
    "* horse\n",
    "* ship\n",
    "* truck\n",
    "\n",
    "Understanding a dataset is part of making predictions on the data.  Play around with the code cell below by changing the `batch_id` and `sample_id`. The `batch_id` is the id for a batch (1-5). The `sample_id` is the id for a image and label pair in the batch.\n",
    "\n",
    "Ask yourself \"What are all possible labels?\", \"What is the range of values for the image data?\", \"Are the labels in order or random?\".  Answers to questions like these will help you preprocess the data and end up with better predictions."
   ]
  },
  {
   "cell_type": "code",
   "execution_count": 193,
   "metadata": {
    "collapsed": false,
    "deletable": true,
    "editable": true
   },
   "outputs": [
    {
     "name": "stdout",
     "output_type": "stream",
     "text": [
      "\n",
      "Stats of batch 2:\n",
      "Samples: 10000\n",
      "Label Counts: {0: 984, 1: 1007, 2: 1010, 3: 995, 4: 1010, 5: 988, 6: 1008, 7: 1026, 8: 987, 9: 985}\n",
      "First 20 Labels: [1, 6, 6, 8, 8, 3, 4, 6, 0, 6, 0, 3, 6, 6, 5, 4, 8, 3, 2, 6]\n",
      "\n",
      "Example of Image 1:\n",
      "Image - Min Value: 2 Max Value: 247\n",
      "Image - Shape: (32, 32, 3)\n",
      "Label - Label Id: 6 Name: frog\n"
     ]
    },
    {
     "data": {
      "image/png": "[encoded data removed]",
      "text/plain": [
       "<matplotlib.figure.Figure at 0x7f2c89cae438>"
      ]
     },
     "metadata": {
      "image/png": {
       "height": 250,
       "width": 253
      }
     },
     "output_type": "display_data"
    }
   ],
   "source": [
    "%matplotlib inline\n",
    "%config InlineBackend.figure_format = 'retina'\n",
    "\n",
    "import helper\n",
    "import numpy as np\n",
    "\n",
    "# Explore the dataset\n",
    "batch_id = 2\n",
    "sample_id = 1\n",
    "helper.display_stats(cifar10_dataset_folder_path, batch_id, sample_id)"
   ]
  },
  {
   "cell_type": "markdown",
   "metadata": {
    "deletable": true,
    "editable": true
   },
   "source": [
    "## Implement Preprocess Functions\n",
    "### Normalize\n",
    "In the cell below, implement the `normalize` function to take in image data, `x`, and return it as a normalized Numpy array. The values should be in the range of 0 to 1, inclusive.  The return object should be the same shape as `x`."
   ]
  },
  {
   "cell_type": "code",
   "execution_count": 300,
   "metadata": {
    "collapsed": false,
    "deletable": true,
    "editable": true
   },
   "outputs": [
    {
     "name": "stdout",
     "output_type": "stream",
     "text": [
      "Tests Passed\n"
     ]
    }
   ],
   "source": [
    "def normalize(x):\n",
    "    \"\"\"\n",
    "    Normalize a list of sample image data in the range of 0 to 1\n",
    "    : x: List of image data.  The image shape is (32, 32, 3)\n",
    "    : return: Numpy array of normalize data\n",
    "    \"\"\"\n",
    "    # TODO: Implement Function\n",
    "    return x / 255\n",
    "\n",
    "\n",
    "\"\"\"\n",
    "DON'T MODIFY ANYTHING IN THIS CELL THAT IS BELOW THIS LINE\n",
    "\"\"\"\n",
    "tests.test_normalize(normalize)"
   ]
  },
  {
   "cell_type": "markdown",
   "metadata": {
    "deletable": true,
    "editable": true
   },
   "source": [
    "### One-hot encode\n",
    "Just like the previous code cell, you'll be implementing a function for preprocessing.  This time, you'll implement the `one_hot_encode` function. The input, `x`, are a list of labels.  Implement the function to return the list of labels as One-Hot encoded Numpy array.  The possible values for labels are 0 to 9. The one-hot encoding function should return the same encoding for each value between each call to `one_hot_encode`.  Make sure to save the map of encodings outside the function.\n",
    "\n",
    "Hint: Don't reinvent the wheel."
   ]
  },
  {
   "cell_type": "code",
   "execution_count": 301,
   "metadata": {
    "collapsed": false,
    "deletable": true,
    "editable": true
   },
   "outputs": [
    {
     "name": "stdout",
     "output_type": "stream",
     "text": [
      "Tests Passed\n"
     ]
    }
   ],
   "source": [
    "from sklearn.preprocessing import OneHotEncoder\n",
    "def one_hot_encode(x):\n",
    "    \"\"\"\n",
    "    One hot encode a list of sample labels. Return a one-hot encoded vector for each label.\n",
    "    : x: List of sample Labels\n",
    "    : return: Numpy array of one-hot encoded labels\n",
    "    \"\"\"\n",
    "    # TODO: Implement Function\n",
    "    enc = OneHotEncoder(10, sparse=False)\n",
    "    return enc.fit_transform(np.array(x).reshape(-1, 1))\n",
    "\n",
    "\n",
    "\"\"\"\n",
    "DON'T MODIFY ANYTHING IN THIS CELL THAT IS BELOW THIS LINE\n",
    "\"\"\"\n",
    "tests.test_one_hot_encode(one_hot_encode)"
   ]
  },
  {
   "cell_type": "markdown",
   "metadata": {
    "deletable": true,
    "editable": true
   },
   "source": [
    "### Randomize Data\n",
    "As you saw from exploring the data above, the order of the samples are randomized.  It doesn't hurt to randomize it again, but you don't need to for this dataset."
   ]
  },
  {
   "cell_type": "markdown",
   "metadata": {
    "deletable": true,
    "editable": true
   },
   "source": [
    "## Preprocess all the data and save it\n",
    "Running the code cell below will preprocess all the CIFAR-10 data and save it to file. The code below also uses 10% of the training data for validation."
   ]
  },
  {
   "cell_type": "code",
   "execution_count": 302,
   "metadata": {
    "collapsed": false,
    "deletable": true,
    "editable": true
   },
   "outputs": [],
   "source": [
    "\"\"\"\n",
    "DON'T MODIFY ANYTHING IN THIS CELL\n",
    "\"\"\"\n",
    "# Preprocess Training, Validation, and Testing Data\n",
    "helper.preprocess_and_save_data(cifar10_dataset_folder_path, normalize, one_hot_encode)"
   ]
  },
  {
   "cell_type": "markdown",
   "metadata": {
    "deletable": true,
    "editable": true
   },
   "source": [
    "# Check Point\n",
    "This is your first checkpoint.  If you ever decide to come back to this notebook or have to restart the notebook, you can start from here.  The preprocessed data has been saved to disk."
   ]
  },
  {
   "cell_type": "code",
   "execution_count": 303,
   "metadata": {
    "collapsed": true,
    "deletable": true,
    "editable": true
   },
   "outputs": [],
   "source": [
    "\"\"\"\n",
    "DON'T MODIFY ANYTHING IN THIS CELL\n",
    "\"\"\"\n",
    "import pickle\n",
    "import problem_unittests as tests\n",
    "import helper\n",
    "\n",
    "# Load the Preprocessed Validation data\n",
    "valid_features, valid_labels = pickle.load(open('preprocess_validation.p', mode='rb'))"
   ]
  },
  {
   "cell_type": "markdown",
   "metadata": {
    "deletable": true,
    "editable": true
   },
   "source": [
    "## Build the network\n",
    "For the neural network, you'll build each layer into a function.  Most of the code you've seen has been outside of functions. To test your code more thoroughly, we require that you put each layer in a function.  This allows us to give you better feedback and test for simple mistakes using our unittests before you submit your project.\n",
    "\n",
    ">**Note:** If you're finding it hard to dedicate enough time for this course each week, we've provided a small shortcut to this part of the project. In the next couple of problems, you'll have the option to use classes from the [TensorFlow Layers](https://www.tensorflow.org/api_docs/python/tf/layers) or [TensorFlow Layers (contrib)](https://www.tensorflow.org/api_guides/python/contrib.layers) packages to build each layer, except the layers you build in the \"Convolutional and Max Pooling Layer\" section.  TF Layers is similar to Keras's and TFLearn's abstraction to layers, so it's easy to pickup.\n",
    "\n",
    ">However, if you would like to get the most out of this course, try to solve all the problems _without_ using anything from the TF Layers packages. You **can** still use classes from other packages that happen to have the same name as ones you find in TF Layers! For example, instead of using the TF Layers version of the `conv2d` class, [tf.layers.conv2d](https://www.tensorflow.org/api_docs/python/tf/layers/conv2d), you would want to use the TF Neural Network version of `conv2d`, [tf.nn.conv2d](https://www.tensorflow.org/api_docs/python/tf/nn/conv2d). \n",
    "\n",
    "Let's begin!\n",
    "\n",
    "### Input\n",
    "The neural network needs to read the image data, one-hot encoded labels, and dropout keep probability. Implement the following functions\n",
    "* Implement `neural_net_image_input`\n",
    " * Return a [TF Placeholder](https://www.tensorflow.org/api_docs/python/tf/placeholder)\n",
    " * Set the shape using `image_shape` with batch size set to `None`.\n",
    " * Name the TensorFlow placeholder \"x\" using the TensorFlow `name` parameter in the [TF Placeholder](https://www.tensorflow.org/api_docs/python/tf/placeholder).\n",
    "* Implement `neural_net_label_input`\n",
    " * Return a [TF Placeholder](https://www.tensorflow.org/api_docs/python/tf/placeholder)\n",
    " * Set the shape using `n_classes` with batch size set to `None`.\n",
    " * Name the TensorFlow placeholder \"y\" using the TensorFlow `name` parameter in the [TF Placeholder](https://www.tensorflow.org/api_docs/python/tf/placeholder).\n",
    "* Implement `neural_net_keep_prob_input`\n",
    " * Return a [TF Placeholder](https://www.tensorflow.org/api_docs/python/tf/placeholder) for dropout keep probability.\n",
    " * Name the TensorFlow placeholder \"keep_prob\" using the TensorFlow `name` parameter in the [TF Placeholder](https://www.tensorflow.org/api_docs/python/tf/placeholder).\n",
    "\n",
    "These names will be used at the end of the project to load your saved model.\n",
    "\n",
    "Note: `None` for shapes in TensorFlow allow for a dynamic size."
   ]
  },
  {
   "cell_type": "code",
   "execution_count": 321,
   "metadata": {
    "collapsed": false,
    "deletable": true,
    "editable": true
   },
   "outputs": [
    {
     "name": "stdout",
     "output_type": "stream",
     "text": [
      "Image Input Tests Passed.\n",
      "Label Input Tests Passed.\n",
      "Keep Prob Tests Passed.\n"
     ]
    }
   ],
   "source": [
    "import tensorflow as tf\n",
    "\n",
    "def neural_net_image_input(image_shape):\n",
    "    \"\"\"\n",
    "    Return a Tensor for a bach of image input\n",
    "    : image_shape: Shape of the images\n",
    "    : return: Tensor for image input.\n",
    "    \"\"\"\n",
    "    # TODO: Implement Function\n",
    "    return tf.placeholder(tf.float32, shape=((None,) + image_shape), name='x')\n",
    "\n",
    "\n",
    "def neural_net_label_input(n_classes):\n",
    "    \"\"\"\n",
    "    Return a Tensor for a batch of label input\n",
    "    : n_classes: Number of classes\n",
    "    : return: Tensor for label input.\n",
    "    \"\"\"\n",
    "    # TODO: Implement Function\n",
    "    return tf.placeholder(tf.float32, shape=(None, n_classes), name='y')\n",
    "\n",
    "\n",
    "def neural_net_keep_prob_input():\n",
    "    \"\"\"\n",
    "    Return a Tensor for keep probability\n",
    "    : return: Tensor for keep probability.\n",
    "    \"\"\"\n",
    "    # TODO: Implement Function\n",
    "    return tf.placeholder(tf.float32, name='keep_prob')\n",
    "\n",
    "\n",
    "\"\"\"\n",
    "DON'T MODIFY ANYTHING IN THIS CELL THAT IS BELOW THIS LINE\n",
    "\"\"\"\n",
    "tf.reset_default_graph()\n",
    "tests.test_nn_image_inputs(neural_net_image_input)\n",
    "tests.test_nn_label_inputs(neural_net_label_input)\n",
    "tests.test_nn_keep_prob_inputs(neural_net_keep_prob_input)"
   ]
  },
  {
   "cell_type": "markdown",
   "metadata": {
    "deletable": true,
    "editable": true
   },
   "source": [
    "### Convolution and Max Pooling Layer\n",
    "Convolution layers have a lot of success with images. For this code cell, you should implement the function `conv2d_maxpool` to apply convolution then max pooling:\n",
    "* Create the weight and bias using `conv_ksize`, `conv_num_outputs` and the shape of `x_tensor`.\n",
    "* Apply a convolution to `x_tensor` using weight and `conv_strides`.\n",
    " * We recommend you use same padding, but you're welcome to use any padding.\n",
    "* Add bias\n",
    "* Add a nonlinear activation to the convolution.\n",
    "* Apply Max Pooling using `pool_ksize` and `pool_strides`.\n",
    " * We recommend you use same padding, but you're welcome to use any padding.\n",
    "\n",
    "**Note:** You **can't** use [TensorFlow Layers](https://www.tensorflow.org/api_docs/python/tf/layers) or [TensorFlow Layers (contrib)](https://www.tensorflow.org/api_guides/python/contrib.layers) for **this** layer, but you can still use TensorFlow's [Neural Network](https://www.tensorflow.org/api_docs/python/tf/nn) package. You may still use the shortcut option for all the **other** layers."
   ]
  },
  {
   "cell_type": "code",
   "execution_count": 322,
   "metadata": {
    "collapsed": false,
    "deletable": true,
    "editable": true
   },
   "outputs": [
    {
     "name": "stdout",
     "output_type": "stream",
     "text": [
      "Tests Passed\n"
     ]
    }
   ],
   "source": [
    "def conv2d_maxpool(x_tensor, conv_num_outputs, conv_ksize, conv_strides, pool_ksize, pool_strides):\n",
    "    \"\"\"\n",
    "    Apply convolution then max pooling to x_tensor\n",
    "    :param x_tensor: TensorFlow Tensor\n",
    "    :param conv_num_outputs: Number of outputs for the convolutional layer\n",
    "    :param conv_ksize: kernal size 2-D Tuple for the convolutional layer\n",
    "    :param conv_strides: Stride 2-D Tuple for convolution\n",
    "    :param pool_ksize: kernal size 2-D Tuple for pool\n",
    "    :param pool_strides: Stride 2-D Tuple for pool\n",
    "    : return: A tensor that represents convolution and max pooling of x_tensor\n",
    "    \"\"\"\n",
    "    # TODO: Implement Function\n",
    "    stddev = 0.08\n",
    "    in_channels = x_tensor.get_shape()[3].value\n",
    "    weights = tf.Variable(tf.truncated_normal([conv_ksize[0], conv_ksize[1], in_channels, conv_num_outputs], stddev=stddev))\n",
    "    bias = tf.Variable(tf.truncated_normal([conv_num_outputs], stddev=stddev))\n",
    "\n",
    "    output_tensor = tf.nn.conv2d(x_tensor, weights, \n",
    "                          strides=[1, conv_strides[0], conv_strides[1], 1],\n",
    "                          padding='SAME')\n",
    "    output_tensor = tf.nn.bias_add(output_tensor, bias)\n",
    "    output_tensor = tf.nn.relu(output_tensor)\n",
    "    output_tensor = tf.nn.max_pool(\n",
    "        output_tensor,\n",
    "        [1, pool_ksize[0], pool_ksize[1], 1],\n",
    "        [1, pool_strides[0], pool_strides[1], 1],\n",
    "        'SAME'\n",
    "    )\n",
    "    return output_tensor\n",
    "\n",
    "\n",
    "\"\"\"\n",
    "DON'T MODIFY ANYTHING IN THIS CELL THAT IS BELOW THIS LINE\n",
    "\"\"\"\n",
    "tests.test_con_pool(conv2d_maxpool)"
   ]
  },
  {
   "cell_type": "markdown",
   "metadata": {
    "deletable": true,
    "editable": true
   },
   "source": [
    "### Flatten Layer\n",
    "Implement the `flatten` function to change the dimension of `x_tensor` from a 4-D tensor to a 2-D tensor.  The output should be the shape (*Batch Size*, *Flattened Image Size*). Shortcut option: you can use classes from the [TensorFlow Layers](https://www.tensorflow.org/api_docs/python/tf/layers) or [TensorFlow Layers (contrib)](https://www.tensorflow.org/api_guides/python/contrib.layers) packages for this layer. For more of a challenge, only use other TensorFlow packages."
   ]
  },
  {
   "cell_type": "code",
   "execution_count": 323,
   "metadata": {
    "collapsed": false,
    "deletable": true,
    "editable": true
   },
   "outputs": [
    {
     "name": "stdout",
     "output_type": "stream",
     "text": [
      "Tests Passed\n"
     ]
    }
   ],
   "source": [
    "def flatten(x_tensor):\n",
    "    \"\"\"\n",
    "    Flatten x_tensor to (Batch Size, Flattened Image Size)\n",
    "    : x_tensor: A tensor of size (Batch Size, ...), where ... are the image dimensions.\n",
    "    : return: A tensor of size (Batch Size, Flattened Image Size).\n",
    "    \"\"\"\n",
    "    # TODO: Implement Function\n",
    "    [batch_size, width_size, height_size, channel_size] = x_tensor.get_shape().as_list()\n",
    "    return tf.reshape(x_tensor, [-1, width_size * height_size* channel_size])\n",
    "\n",
    "\n",
    "\"\"\"\n",
    "DON'T MODIFY ANYTHING IN THIS CELL THAT IS BELOW THIS LINE\n",
    "\"\"\"\n",
    "tests.test_flatten(flatten)"
   ]
  },
  {
   "cell_type": "markdown",
   "metadata": {
    "deletable": true,
    "editable": true
   },
   "source": [
    "### Fully-Connected Layer\n",
    "Implement the `fully_conn` function to apply a fully connected layer to `x_tensor` with the shape (*Batch Size*, *num_outputs*). Shortcut option: you can use classes from the [TensorFlow Layers](https://www.tensorflow.org/api_docs/python/tf/layers) or [TensorFlow Layers (contrib)](https://www.tensorflow.org/api_guides/python/contrib.layers) packages for this layer. For more of a challenge, only use other TensorFlow packages."
   ]
  },
  {
   "cell_type": "code",
   "execution_count": 324,
   "metadata": {
    "collapsed": false,
    "deletable": true,
    "editable": true
   },
   "outputs": [
    {
     "name": "stdout",
     "output_type": "stream",
     "text": [
      "Tests Passed\n"
     ]
    }
   ],
   "source": [
    "def fully_conn(x_tensor, num_outputs):\n",
    "    \"\"\"\n",
    "    Apply a fully connected layer to x_tensor using weight and bias\n",
    "    : x_tensor: A 2-D tensor where the first dimension is batch size.\n",
    "    : num_outputs: The number of output that the new tensor should be.\n",
    "    : return: A 2-D tensor where the second dimension is num_outputs.\n",
    "    \"\"\"\n",
    "    # TODO: Implement Function\n",
    "    stddev = 0.08\n",
    "    weights = tf.Variable(tf.truncated_normal([x_tensor.get_shape()[1].value, num_outputs], stddev=stddev))\n",
    "    bias = tf.Variable(tf.truncated_normal([num_outputs], stddev=stddev))\n",
    "    return tf.nn.relu(tf.add(tf.matmul(x_tensor, weights), bias))\n",
    "\n",
    "\n",
    "\"\"\"\n",
    "DON'T MODIFY ANYTHING IN THIS CELL THAT IS BELOW THIS LINE\n",
    "\"\"\"\n",
    "tests.test_fully_conn(fully_conn)"
   ]
  },
  {
   "cell_type": "markdown",
   "metadata": {
    "deletable": true,
    "editable": true
   },
   "source": [
    "### Output Layer\n",
    "Implement the `output` function to apply a fully connected layer to `x_tensor` with the shape (*Batch Size*, *num_outputs*). Shortcut option: you can use classes from the [TensorFlow Layers](https://www.tensorflow.org/api_docs/python/tf/layers) or [TensorFlow Layers (contrib)](https://www.tensorflow.org/api_guides/python/contrib.layers) packages for this layer. For more of a challenge, only use other TensorFlow packages.\n",
    "\n",
    "**Note:** Activation, softmax, or cross entropy should **not** be applied to this."
   ]
  },
  {
   "cell_type": "code",
   "execution_count": 325,
   "metadata": {
    "collapsed": false,
    "deletable": true,
    "editable": true
   },
   "outputs": [
    {
     "name": "stdout",
     "output_type": "stream",
     "text": [
      "Tests Passed\n"
     ]
    }
   ],
   "source": [
    "def output(x_tensor, num_outputs):\n",
    "    \"\"\"\n",
    "    Apply a output layer to x_tensor using weight and bias\n",
    "    : x_tensor: A 2-D tensor where the first dimension is batch size.\n",
    "    : num_outputs: The number of output that the new tensor should be.\n",
    "    : return: A 2-D tensor where the second dimension is num_outputs.\n",
    "    \"\"\"\n",
    "    # TODO: Implement Function\n",
    "    weights = tf.Variable(tf.truncated_normal([x_tensor.get_shape()[1].value, num_outputs]))\n",
    "    bias = tf.Variable(tf.random_normal([num_outputs]))\n",
    "    fc = tf.add(tf.matmul(x_tensor, weights), bias)\n",
    "    return fc\n",
    "\n",
    "\n",
    "\n",
    "\"\"\"\n",
    "DON'T MODIFY ANYTHING IN THIS CELL THAT IS BELOW THIS LINE\n",
    "\"\"\"\n",
    "tests.test_output(output)"
   ]
  },
  {
   "cell_type": "markdown",
   "metadata": {
    "deletable": true,
    "editable": true
   },
   "source": [
    "### Create Convolutional Model\n",
    "Implement the function `conv_net` to create a convolutional neural network model. The function takes in a batch of images, `x`, and outputs logits.  Use the layers you created above to create this model:\n",
    "\n",
    "* Apply 1, 2, or 3 Convolution and Max Pool layers\n",
    "* Apply a Flatten Layer\n",
    "* Apply 1, 2, or 3 Fully Connected Layers\n",
    "* Apply an Output Layer\n",
    "* Return the output\n",
    "* Apply [TensorFlow's Dropout](https://www.tensorflow.org/api_docs/python/tf/nn/dropout) to one or more layers in the model using `keep_prob`. "
   ]
  },
  {
   "cell_type": "code",
   "execution_count": 351,
   "metadata": {
    "collapsed": false,
    "deletable": true,
    "editable": true
   },
   "outputs": [
    {
     "name": "stdout",
     "output_type": "stream",
     "text": [
      "Neural Network Built!\n"
     ]
    }
   ],
   "source": [
    "def conv_net(x, keep_prob):\n",
    "    \"\"\"\n",
    "    Create a convolutional neural network model\n",
    "    : x: Placeholder tensor that holds image data.\n",
    "    : keep_prob: Placeholder tensor that hold dropout keep probability.\n",
    "    : return: Tensor that represents logits\n",
    "    \"\"\"\n",
    "    # TODO: Apply 1, 2, or 3 Convolution and Max Pool layers\n",
    "    #    Play around with different number of outputs, kernel size and stride\n",
    "    # Function Definition from Above:\n",
    "    conv = conv2d_maxpool(x, 64, (4, 4), (1,1), (2,2), (2,2))\n",
    "    conv = conv2d_maxpool(conv, 64, (2, 2), (1,1), (2,2), (2,2))\n",
    "    conv = conv2d_maxpool(conv, 128, (2, 2), (1,1), (1,1), (1,1))\n",
    "\n",
    "\n",
    "    # TODO: Apply a Flatten Layer\n",
    "    # Function Definition from Above:\n",
    "    conv = flatten(conv)\n",
    "    \n",
    "\n",
    "    # TODO: Apply 1, 2, or 3 Fully Connected Layers\n",
    "    #    Play around with different number of outputs\n",
    "    # Function Definition from Above:\n",
    "    conv = fully_conn(conv, 1024)\n",
    "    conv = tf.nn.dropout(conv, keep_prob)\n",
    "    \n",
    "    \n",
    "    # TODO: Apply an Output Layer\n",
    "    #    Set this to the number of classes\n",
    "    # Function Definition from Above:\n",
    "    logits = output(conv, 10)\n",
    "    \n",
    "    \n",
    "    # TODO: return output\n",
    "    return logits\n",
    "\n",
    "\n",
    "\"\"\"\n",
    "DON'T MODIFY ANYTHING IN THIS CELL THAT IS BELOW THIS LINE\n",
    "\"\"\"\n",
    "\n",
    "##############################\n",
    "## Build the Neural Network ##\n",
    "##############################\n",
    "\n",
    "# Remove previous weights, bias, inputs, etc..\n",
    "tf.reset_default_graph()\n",
    "\n",
    "# Inputs\n",
    "x = neural_net_image_input((32, 32, 3))\n",
    "y = neural_net_label_input(10)\n",
    "keep_prob = neural_net_keep_prob_input()\n",
    "\n",
    "# Model\n",
    "logits = conv_net(x, keep_prob)\n",
    "\n",
    "# Name logits Tensor, so that is can be loaded from disk after training\n",
    "logits = tf.identity(logits, name='logits')\n",
    "\n",
    "# Loss and Optimizer\n",
    "cost = tf.reduce_mean(tf.nn.softmax_cross_entropy_with_logits(logits=logits, labels=y))\n",
    "optimizer = tf.train.AdamOptimizer().minimize(cost)\n",
    "\n",
    "# Accuracy\n",
    "correct_pred = tf.equal(tf.argmax(logits, 1), tf.argmax(y, 1))\n",
    "accuracy = tf.reduce_mean(tf.cast(correct_pred, tf.float32), name='accuracy')\n",
    "\n",
    "tests.test_conv_net(conv_net)"
   ]
  },
  {
   "cell_type": "markdown",
   "metadata": {
    "deletable": true,
    "editable": true
   },
   "source": [
    "## Train the Neural Network\n",
    "### Single Optimization\n",
    "Implement the function `train_neural_network` to do a single optimization.  The optimization should use `optimizer` to optimize in `session` with a `feed_dict` of the following:\n",
    "* `x` for image input\n",
    "* `y` for labels\n",
    "* `keep_prob` for keep probability for dropout\n",
    "\n",
    "This function will be called for each batch, so `tf.global_variables_initializer()` has already been called.\n",
    "\n",
    "Note: Nothing needs to be returned. This function is only optimizing the neural network."
   ]
  },
  {
   "cell_type": "code",
   "execution_count": 352,
   "metadata": {
    "collapsed": false,
    "deletable": true,
    "editable": true
   },
   "outputs": [
    {
     "name": "stdout",
     "output_type": "stream",
     "text": [
      "Tests Passed\n"
     ]
    }
   ],
   "source": [
    "def train_neural_network(session, optimizer, keep_probability, feature_batch, label_batch):\n",
    "    \"\"\"\n",
    "    Optimize the session on a batch of images and labels\n",
    "    : session: Current TensorFlow session\n",
    "    : optimizer: TensorFlow optimizer function\n",
    "    : keep_probability: keep probability\n",
    "    : feature_batch: Batch of Numpy image data\n",
    "    : label_batch: Batch of Numpy label data\n",
    "    \"\"\"\n",
    "    # TODO: Implement Function\n",
    "    session.run(optimizer, feed_dict={x: feature_batch, y: label_batch, keep_prob: keep_probability})\n",
    "\n",
    "\n",
    "\"\"\"\n",
    "DON'T MODIFY ANYTHING IN THIS CELL THAT IS BELOW THIS LINE\n",
    "\"\"\"\n",
    "tests.test_train_nn(train_neural_network)"
   ]
  },
  {
   "cell_type": "markdown",
   "metadata": {
    "deletable": true,
    "editable": true
   },
   "source": [
    "### Show Stats\n",
    "Implement the function `print_stats` to print loss and validation accuracy.  Use the global variables `valid_features` and `valid_labels` to calculate validation accuracy.  Use a keep probability of `1.0` to calculate the loss and validation accuracy."
   ]
  },
  {
   "cell_type": "code",
   "execution_count": 353,
   "metadata": {
    "collapsed": false,
    "deletable": true,
    "editable": true
   },
   "outputs": [],
   "source": [
    "def print_stats(session, feature_batch, label_batch, cost, accuracy):\n",
    "    \"\"\"\n",
    "    Print information about loss and validation accuracy\n",
    "    : session: Current TensorFlow session\n",
    "    : feature_batch: Batch of Numpy image data\n",
    "    : label_batch: Batch of Numpy label data\n",
    "    : cost: TensorFlow cost function\n",
    "    : accuracy: TensorFlow accuracy function\n",
    "    \"\"\"\n",
    "    # TODO: Implement Function\n",
    "    loss           = session.run(cost,     feed_dict={x: feature_batch, y: label_batch, keep_prob: 1.})\n",
    "    trainning_acc  = session.run(accuracy, feed_dict={x: feature_batch, y: label_batch,keep_prob: 1.})\n",
    "    validation_acc = session.run(accuracy, feed_dict={x: valid_features,y: valid_labels,keep_prob: 1.})\n",
    "    print('Training Loss:', \"%.4f\" % loss, 'Trainning Accuracy:', \"%.4f\" % (trainning_acc),'Validation Accuracy: ',\"%.4f\" % (validation_acc))"
   ]
  },
  {
   "cell_type": "code",
   "execution_count": null,
   "metadata": {
    "collapsed": true,
    "deletable": true,
    "editable": true
   },
   "outputs": [],
   "source": []
  },
  {
   "cell_type": "markdown",
   "metadata": {
    "deletable": true,
    "editable": true
   },
   "source": [
    "### Hyperparameters\n",
    "Tune the following parameters:\n",
    "* Set `epochs` to the number of iterations until the network stops learning or start overfitting\n",
    "* Set `batch_size` to the highest number that your machine has memory for.  Most people set them to common sizes of memory:\n",
    " * 64\n",
    " * 128\n",
    " * 256\n",
    " * ...\n",
    "* Set `keep_probability` to the probability of keeping a node using dropout"
   ]
  },
  {
   "cell_type": "code",
   "execution_count": 355,
   "metadata": {
    "collapsed": true,
    "deletable": true,
    "editable": true
   },
   "outputs": [],
   "source": [
    "# TODO: Tune Parameters\n",
    "epochs = 60\n",
    "batch_size = 256\n",
    "keep_probability = 0.50"
   ]
  },
  {
   "cell_type": "markdown",
   "metadata": {
    "deletable": true,
    "editable": true
   },
   "source": [
    "### Train on a Single CIFAR-10 Batch\n",
    "Instead of training the neural network on all the CIFAR-10 batches of data, let's use a single batch. This should save time while you iterate on the model to get a better accuracy.  Once the final validation accuracy is 50% or greater, run the model on all the data in the next section."
   ]
  },
  {
   "cell_type": "code",
   "execution_count": 356,
   "metadata": {
    "collapsed": false,
    "deletable": true,
    "editable": true
   },
   "outputs": [
    {
     "name": "stdout",
     "output_type": "stream",
     "text": [
      "Checking the Training on a Single Batch...\n",
      "Epoch  1, CIFAR-10 Batch 1:  Training Loss: 2.0729 Trainning Accuracy: 0.2750 Validation Accuracy:  0.3046\n",
      "Epoch  2, CIFAR-10 Batch 1:  Training Loss: 1.6529 Trainning Accuracy: 0.4750 Validation Accuracy:  0.4082\n",
      "Epoch  3, CIFAR-10 Batch 1:  Training Loss: 1.2798 Trainning Accuracy: 0.6500 Validation Accuracy:  0.4588\n",
      "Epoch  4, CIFAR-10 Batch 1:  Training Loss: 0.9845 Trainning Accuracy: 0.7750 Validation Accuracy:  0.4758\n",
      "Epoch  5, CIFAR-10 Batch 1:  Training Loss: 0.8089 Trainning Accuracy: 0.8500 Validation Accuracy:  0.4956\n",
      "Epoch  6, CIFAR-10 Batch 1:  Training Loss: 0.5985 Trainning Accuracy: 0.8750 Validation Accuracy:  0.5156\n",
      "Epoch  7, CIFAR-10 Batch 1:  Training Loss: 0.3949 Trainning Accuracy: 0.9250 Validation Accuracy:  0.5104\n",
      "Epoch  8, CIFAR-10 Batch 1:  Training Loss: 0.3023 Trainning Accuracy: 0.9500 Validation Accuracy:  0.5034\n",
      "Epoch  9, CIFAR-10 Batch 1:  Training Loss: 0.2092 Trainning Accuracy: 0.9750 Validation Accuracy:  0.5274\n",
      "Epoch 10, CIFAR-10 Batch 1:  Training Loss: 0.1738 Trainning Accuracy: 1.0000 Validation Accuracy:  0.5420\n",
      "Epoch 11, CIFAR-10 Batch 1:  Training Loss: 0.1692 Trainning Accuracy: 1.0000 Validation Accuracy:  0.5386\n",
      "Epoch 12, CIFAR-10 Batch 1:  Training Loss: 0.1213 Trainning Accuracy: 1.0000 Validation Accuracy:  0.5422\n",
      "Epoch 13, CIFAR-10 Batch 1:  Training Loss: 0.0907 Trainning Accuracy: 1.0000 Validation Accuracy:  0.5368\n",
      "Epoch 14, CIFAR-10 Batch 1:  Training Loss: 0.0616 Trainning Accuracy: 1.0000 Validation Accuracy:  0.5452\n",
      "Epoch 15, CIFAR-10 Batch 1:  Training Loss: 0.0577 Trainning Accuracy: 1.0000 Validation Accuracy:  0.5538\n",
      "Epoch 16, CIFAR-10 Batch 1:  Training Loss: 0.0282 Trainning Accuracy: 1.0000 Validation Accuracy:  0.5626\n",
      "Epoch 17, CIFAR-10 Batch 1:  Training Loss: 0.0298 Trainning Accuracy: 1.0000 Validation Accuracy:  0.5478\n",
      "Epoch 18, CIFAR-10 Batch 1:  Training Loss: 0.0246 Trainning Accuracy: 1.0000 Validation Accuracy:  0.5546\n",
      "Epoch 19, CIFAR-10 Batch 1:  Training Loss: 0.0237 Trainning Accuracy: 1.0000 Validation Accuracy:  0.5508\n",
      "Epoch 20, CIFAR-10 Batch 1:  Training Loss: 0.0202 Trainning Accuracy: 1.0000 Validation Accuracy:  0.5452\n",
      "Epoch 21, CIFAR-10 Batch 1:  Training Loss: 0.0081 Trainning Accuracy: 1.0000 Validation Accuracy:  0.5666\n",
      "Epoch 22, CIFAR-10 Batch 1:  Training Loss: 0.0043 Trainning Accuracy: 1.0000 Validation Accuracy:  0.5698\n",
      "Epoch 23, CIFAR-10 Batch 1:  Training Loss: 0.0085 Trainning Accuracy: 1.0000 Validation Accuracy:  0.5726\n",
      "Epoch 24, CIFAR-10 Batch 1:  Training Loss: 0.0028 Trainning Accuracy: 1.0000 Validation Accuracy:  0.5590\n",
      "Epoch 25, CIFAR-10 Batch 1:  Training Loss: 0.0027 Trainning Accuracy: 1.0000 Validation Accuracy:  0.5476\n",
      "Epoch 26, CIFAR-10 Batch 1:  Training Loss: 0.0033 Trainning Accuracy: 1.0000 Validation Accuracy:  0.5548\n",
      "Epoch 27, CIFAR-10 Batch 1:  Training Loss: 0.0029 Trainning Accuracy: 1.0000 Validation Accuracy:  0.5680\n",
      "Epoch 28, CIFAR-10 Batch 1:  Training Loss: 0.0024 Trainning Accuracy: 1.0000 Validation Accuracy:  0.5748\n",
      "Epoch 29, CIFAR-10 Batch 1:  Training Loss: 0.0011 Trainning Accuracy: 1.0000 Validation Accuracy:  0.5824\n",
      "Epoch 30, CIFAR-10 Batch 1:  Training Loss: 0.0011 Trainning Accuracy: 1.0000 Validation Accuracy:  0.5750\n",
      "Epoch 31, CIFAR-10 Batch 1:  Training Loss: 0.0004 Trainning Accuracy: 1.0000 Validation Accuracy:  0.5680\n",
      "Epoch 32, CIFAR-10 Batch 1:  Training Loss: 0.0012 Trainning Accuracy: 1.0000 Validation Accuracy:  0.5746\n",
      "Epoch 33, CIFAR-10 Batch 1:  Training Loss: 0.0003 Trainning Accuracy: 1.0000 Validation Accuracy:  0.5842\n",
      "Epoch 34, CIFAR-10 Batch 1:  Training Loss: 0.0007 Trainning Accuracy: 1.0000 Validation Accuracy:  0.5726\n",
      "Epoch 35, CIFAR-10 Batch 1:  Training Loss: 0.0010 Trainning Accuracy: 1.0000 Validation Accuracy:  0.5868\n",
      "Epoch 36, CIFAR-10 Batch 1:  Training Loss: 0.0011 Trainning Accuracy: 1.0000 Validation Accuracy:  0.5818\n",
      "Epoch 37, CIFAR-10 Batch 1:  Training Loss: 0.0011 Trainning Accuracy: 1.0000 Validation Accuracy:  0.5874\n",
      "Epoch 38, CIFAR-10 Batch 1:  Training Loss: 0.0005 Trainning Accuracy: 1.0000 Validation Accuracy:  0.5762\n",
      "Epoch 39, CIFAR-10 Batch 1:  Training Loss: 0.0007 Trainning Accuracy: 1.0000 Validation Accuracy:  0.5774\n",
      "Epoch 40, CIFAR-10 Batch 1:  Training Loss: 0.0005 Trainning Accuracy: 1.0000 Validation Accuracy:  0.5850\n",
      "Epoch 41, CIFAR-10 Batch 1:  Training Loss: 0.0004 Trainning Accuracy: 1.0000 Validation Accuracy:  0.5706\n",
      "Epoch 42, CIFAR-10 Batch 1:  Training Loss: 0.0002 Trainning Accuracy: 1.0000 Validation Accuracy:  0.5778\n",
      "Epoch 43, CIFAR-10 Batch 1:  Training Loss: 0.0001 Trainning Accuracy: 1.0000 Validation Accuracy:  0.5682\n",
      "Epoch 44, CIFAR-10 Batch 1:  Training Loss: 0.0001 Trainning Accuracy: 1.0000 Validation Accuracy:  0.5762\n",
      "Epoch 45, CIFAR-10 Batch 1:  Training Loss: 0.0001 Trainning Accuracy: 1.0000 Validation Accuracy:  0.5774\n",
      "Epoch 46, CIFAR-10 Batch 1:  Training Loss: 0.0002 Trainning Accuracy: 1.0000 Validation Accuracy:  0.5742\n",
      "Epoch 47, CIFAR-10 Batch 1:  Training Loss: 0.0001 Trainning Accuracy: 1.0000 Validation Accuracy:  0.5732\n",
      "Epoch 48, CIFAR-10 Batch 1:  Training Loss: 0.0001 Trainning Accuracy: 1.0000 Validation Accuracy:  0.5830\n",
      "Epoch 49, CIFAR-10 Batch 1:  Training Loss: 0.0001 Trainning Accuracy: 1.0000 Validation Accuracy:  0.5862\n",
      "Epoch 50, CIFAR-10 Batch 1:  Training Loss: 0.0001 Trainning Accuracy: 1.0000 Validation Accuracy:  0.5818\n",
      "Epoch 51, CIFAR-10 Batch 1:  Training Loss: 0.0001 Trainning Accuracy: 1.0000 Validation Accuracy:  0.5722\n",
      "Epoch 52, CIFAR-10 Batch 1:  Training Loss: 0.0001 Trainning Accuracy: 1.0000 Validation Accuracy:  0.5844\n",
      "Epoch 53, CIFAR-10 Batch 1:  Training Loss: 0.0001 Trainning Accuracy: 1.0000 Validation Accuracy:  0.5852\n",
      "Epoch 54, CIFAR-10 Batch 1:  Training Loss: 0.0002 Trainning Accuracy: 1.0000 Validation Accuracy:  0.5840\n",
      "Epoch 55, CIFAR-10 Batch 1:  Training Loss: 0.0001 Trainning Accuracy: 1.0000 Validation Accuracy:  0.5808\n",
      "Epoch 56, CIFAR-10 Batch 1:  Training Loss: 0.0001 Trainning Accuracy: 1.0000 Validation Accuracy:  0.5822\n",
      "Epoch 57, CIFAR-10 Batch 1:  Training Loss: 0.0002 Trainning Accuracy: 1.0000 Validation Accuracy:  0.5830\n",
      "Epoch 58, CIFAR-10 Batch 1:  Training Loss: 0.0001 Trainning Accuracy: 1.0000 Validation Accuracy:  0.5860\n",
      "Epoch 59, CIFAR-10 Batch 1:  Training Loss: 0.0001 Trainning Accuracy: 1.0000 Validation Accuracy:  0.5840\n",
      "Epoch 60, CIFAR-10 Batch 1:  Training Loss: 0.0006 Trainning Accuracy: 1.0000 Validation Accuracy:  0.5754\n"
     ]
    }
   ],
   "source": [
    "\"\"\"\n",
    "DON'T MODIFY ANYTHING IN THIS CELL\n",
    "\"\"\"\n",
    "print('Checking the Training on a Single Batch...')\n",
    "with tf.Session() as sess:\n",
    "    # Initializing the variables\n",
    "    sess.run(tf.global_variables_initializer())\n",
    "    \n",
    "    # Training cycle\n",
    "    for epoch in range(epochs):\n",
    "        batch_i = 1\n",
    "        for batch_features, batch_labels in helper.load_preprocess_training_batch(batch_i, batch_size):\n",
    "            train_neural_network(sess, optimizer, keep_probability, batch_features, batch_labels)\n",
    "        print('Epoch {:>2}, CIFAR-10 Batch {}:  '.format(epoch + 1, batch_i), end='')\n",
    "        print_stats(sess, batch_features, batch_labels, cost, accuracy)"
   ]
  },
  {
   "cell_type": "markdown",
   "metadata": {
    "deletable": true,
    "editable": true
   },
   "source": [
    "### Fully Train the Model\n",
    "Now that you got a good accuracy with a single CIFAR-10 batch, try it with all five batches."
   ]
  },
  {
   "cell_type": "code",
   "execution_count": 357,
   "metadata": {
    "collapsed": false,
    "deletable": true,
    "editable": true
   },
   "outputs": [
    {
     "name": "stdout",
     "output_type": "stream",
     "text": [
      "Training...\n",
      "Epoch  1, CIFAR-10 Batch 1:  Training Loss: 1.9206 Trainning Accuracy: 0.4000 Validation Accuracy:  0.3324\n",
      "Epoch  1, CIFAR-10 Batch 2:  Training Loss: 1.7103 Trainning Accuracy: 0.4000 Validation Accuracy:  0.4028\n",
      "Epoch  1, CIFAR-10 Batch 3:  Training Loss: 1.4055 Trainning Accuracy: 0.5250 Validation Accuracy:  0.4420\n",
      "Epoch  1, CIFAR-10 Batch 4:  Training Loss: 1.4047 Trainning Accuracy: 0.5500 Validation Accuracy:  0.4852\n",
      "Epoch  1, CIFAR-10 Batch 5:  Training Loss: 1.4432 Trainning Accuracy: 0.4750 Validation Accuracy:  0.4884\n",
      "Epoch  2, CIFAR-10 Batch 1:  Training Loss: 1.2311 Trainning Accuracy: 0.5750 Validation Accuracy:  0.5172\n",
      "Epoch  2, CIFAR-10 Batch 2:  Training Loss: 1.1825 Trainning Accuracy: 0.5250 Validation Accuracy:  0.5084\n",
      "Epoch  2, CIFAR-10 Batch 3:  Training Loss: 0.8781 Trainning Accuracy: 0.7250 Validation Accuracy:  0.5214\n",
      "Epoch  2, CIFAR-10 Batch 4:  Training Loss: 0.9793 Trainning Accuracy: 0.6750 Validation Accuracy:  0.5152\n",
      "Epoch  2, CIFAR-10 Batch 5:  Training Loss: 1.0152 Trainning Accuracy: 0.7000 Validation Accuracy:  0.5652\n",
      "Epoch  3, CIFAR-10 Batch 1:  Training Loss: 0.9271 Trainning Accuracy: 0.7000 Validation Accuracy:  0.5634\n",
      "Epoch  3, CIFAR-10 Batch 2:  Training Loss: 0.8954 Trainning Accuracy: 0.7750 Validation Accuracy:  0.5644\n",
      "Epoch  3, CIFAR-10 Batch 3:  Training Loss: 0.6922 Trainning Accuracy: 0.7500 Validation Accuracy:  0.5548\n",
      "Epoch  3, CIFAR-10 Batch 4:  Training Loss: 0.7236 Trainning Accuracy: 0.8000 Validation Accuracy:  0.5652\n",
      "Epoch  3, CIFAR-10 Batch 5:  Training Loss: 0.6851 Trainning Accuracy: 0.8750 Validation Accuracy:  0.5894\n",
      "Epoch  4, CIFAR-10 Batch 1:  Training Loss: 0.6320 Trainning Accuracy: 0.8500 Validation Accuracy:  0.6090\n",
      "Epoch  4, CIFAR-10 Batch 2:  Training Loss: 0.6716 Trainning Accuracy: 0.7750 Validation Accuracy:  0.5720\n",
      "Epoch  4, CIFAR-10 Batch 3:  Training Loss: 0.4368 Trainning Accuracy: 0.9000 Validation Accuracy:  0.5840\n",
      "Epoch  4, CIFAR-10 Batch 4:  Training Loss: 0.5491 Trainning Accuracy: 0.8750 Validation Accuracy:  0.6194\n",
      "Epoch  4, CIFAR-10 Batch 5:  Training Loss: 0.5099 Trainning Accuracy: 0.9250 Validation Accuracy:  0.6004\n",
      "Epoch  5, CIFAR-10 Batch 1:  Training Loss: 0.4023 Trainning Accuracy: 0.9000 Validation Accuracy:  0.6164\n",
      "Epoch  5, CIFAR-10 Batch 2:  Training Loss: 0.4106 Trainning Accuracy: 0.8750 Validation Accuracy:  0.6102\n",
      "Epoch  5, CIFAR-10 Batch 3:  Training Loss: 0.2708 Trainning Accuracy: 0.9500 Validation Accuracy:  0.6148\n",
      "Epoch  5, CIFAR-10 Batch 4:  Training Loss: 0.3308 Trainning Accuracy: 0.9500 Validation Accuracy:  0.6334\n",
      "Epoch  5, CIFAR-10 Batch 5:  Training Loss: 0.3568 Trainning Accuracy: 0.9750 Validation Accuracy:  0.6196\n",
      "Epoch  6, CIFAR-10 Batch 1:  Training Loss: 0.2904 Trainning Accuracy: 0.9750 Validation Accuracy:  0.6312\n",
      "Epoch  6, CIFAR-10 Batch 2:  Training Loss: 0.2529 Trainning Accuracy: 0.9750 Validation Accuracy:  0.6104\n",
      "Epoch  6, CIFAR-10 Batch 3:  Training Loss: 0.1701 Trainning Accuracy: 1.0000 Validation Accuracy:  0.6396\n",
      "Epoch  6, CIFAR-10 Batch 4:  Training Loss: 0.2472 Trainning Accuracy: 0.9750 Validation Accuracy:  0.6470\n",
      "Epoch  6, CIFAR-10 Batch 5:  Training Loss: 0.2420 Trainning Accuracy: 0.9750 Validation Accuracy:  0.6502\n",
      "Epoch  7, CIFAR-10 Batch 1:  Training Loss: 0.2068 Trainning Accuracy: 0.9750 Validation Accuracy:  0.6490\n",
      "Epoch  7, CIFAR-10 Batch 2:  Training Loss: 0.1671 Trainning Accuracy: 1.0000 Validation Accuracy:  0.6428\n",
      "Epoch  7, CIFAR-10 Batch 3:  Training Loss: 0.1392 Trainning Accuracy: 1.0000 Validation Accuracy:  0.6456\n",
      "Epoch  7, CIFAR-10 Batch 4:  Training Loss: 0.1924 Trainning Accuracy: 0.9750 Validation Accuracy:  0.6490\n",
      "Epoch  7, CIFAR-10 Batch 5:  Training Loss: 0.1550 Trainning Accuracy: 0.9750 Validation Accuracy:  0.6552\n",
      "Epoch  8, CIFAR-10 Batch 1:  Training Loss: 0.1395 Trainning Accuracy: 1.0000 Validation Accuracy:  0.6488\n",
      "Epoch  8, CIFAR-10 Batch 2:  Training Loss: 0.1158 Trainning Accuracy: 1.0000 Validation Accuracy:  0.6306\n",
      "Epoch  8, CIFAR-10 Batch 3:  Training Loss: 0.0987 Trainning Accuracy: 1.0000 Validation Accuracy:  0.6630\n",
      "Epoch  8, CIFAR-10 Batch 4:  Training Loss: 0.1272 Trainning Accuracy: 1.0000 Validation Accuracy:  0.6534\n",
      "Epoch  8, CIFAR-10 Batch 5:  Training Loss: 0.0835 Trainning Accuracy: 1.0000 Validation Accuracy:  0.6534\n",
      "Epoch  9, CIFAR-10 Batch 1:  Training Loss: 0.1146 Trainning Accuracy: 1.0000 Validation Accuracy:  0.6260\n",
      "Epoch  9, CIFAR-10 Batch 2:  Training Loss: 0.0792 Trainning Accuracy: 1.0000 Validation Accuracy:  0.6486\n",
      "Epoch  9, CIFAR-10 Batch 3:  Training Loss: 0.0756 Trainning Accuracy: 1.0000 Validation Accuracy:  0.6428\n",
      "Epoch  9, CIFAR-10 Batch 4:  Training Loss: 0.0821 Trainning Accuracy: 1.0000 Validation Accuracy:  0.6646\n",
      "Epoch  9, CIFAR-10 Batch 5:  Training Loss: 0.0576 Trainning Accuracy: 1.0000 Validation Accuracy:  0.6570\n",
      "Epoch 10, CIFAR-10 Batch 1:  Training Loss: 0.0628 Trainning Accuracy: 1.0000 Validation Accuracy:  0.6532\n",
      "Epoch 10, CIFAR-10 Batch 2:  Training Loss: 0.0405 Trainning Accuracy: 1.0000 Validation Accuracy:  0.6636\n",
      "Epoch 10, CIFAR-10 Batch 3:  Training Loss: 0.0461 Trainning Accuracy: 1.0000 Validation Accuracy:  0.6614\n",
      "Epoch 10, CIFAR-10 Batch 4:  Training Loss: 0.0620 Trainning Accuracy: 1.0000 Validation Accuracy:  0.6672\n",
      "Epoch 10, CIFAR-10 Batch 5:  Training Loss: 0.0313 Trainning Accuracy: 1.0000 Validation Accuracy:  0.6620\n",
      "Epoch 11, CIFAR-10 Batch 1:  Training Loss: 0.0481 Trainning Accuracy: 1.0000 Validation Accuracy:  0.6530\n",
      "Epoch 11, CIFAR-10 Batch 2:  Training Loss: 0.0384 Trainning Accuracy: 1.0000 Validation Accuracy:  0.6574\n",
      "Epoch 11, CIFAR-10 Batch 3:  Training Loss: 0.0261 Trainning Accuracy: 1.0000 Validation Accuracy:  0.6778\n",
      "Epoch 11, CIFAR-10 Batch 4:  Training Loss: 0.0535 Trainning Accuracy: 1.0000 Validation Accuracy:  0.6744\n",
      "Epoch 11, CIFAR-10 Batch 5:  Training Loss: 0.0263 Trainning Accuracy: 1.0000 Validation Accuracy:  0.6730\n",
      "Epoch 12, CIFAR-10 Batch 1:  Training Loss: 0.0415 Trainning Accuracy: 1.0000 Validation Accuracy:  0.6762\n",
      "Epoch 12, CIFAR-10 Batch 2:  Training Loss: 0.0293 Trainning Accuracy: 1.0000 Validation Accuracy:  0.6624\n",
      "Epoch 12, CIFAR-10 Batch 3:  Training Loss: 0.0275 Trainning Accuracy: 1.0000 Validation Accuracy:  0.6702\n",
      "Epoch 12, CIFAR-10 Batch 4:  Training Loss: 0.0382 Trainning Accuracy: 1.0000 Validation Accuracy:  0.6602\n",
      "Epoch 12, CIFAR-10 Batch 5:  Training Loss: 0.0157 Trainning Accuracy: 1.0000 Validation Accuracy:  0.6724\n",
      "Epoch 13, CIFAR-10 Batch 1:  Training Loss: 0.0358 Trainning Accuracy: 1.0000 Validation Accuracy:  0.6694\n",
      "Epoch 13, CIFAR-10 Batch 2:  Training Loss: 0.0247 Trainning Accuracy: 1.0000 Validation Accuracy:  0.6688\n",
      "Epoch 13, CIFAR-10 Batch 3:  Training Loss: 0.0101 Trainning Accuracy: 1.0000 Validation Accuracy:  0.6686\n",
      "Epoch 13, CIFAR-10 Batch 4:  Training Loss: 0.0136 Trainning Accuracy: 1.0000 Validation Accuracy:  0.6824\n",
      "Epoch 13, CIFAR-10 Batch 5:  Training Loss: 0.0164 Trainning Accuracy: 1.0000 Validation Accuracy:  0.6658\n",
      "Epoch 14, CIFAR-10 Batch 1:  Training Loss: 0.0190 Trainning Accuracy: 1.0000 Validation Accuracy:  0.6866\n",
      "Epoch 14, CIFAR-10 Batch 2:  Training Loss: 0.0203 Trainning Accuracy: 1.0000 Validation Accuracy:  0.6654\n",
      "Epoch 14, CIFAR-10 Batch 3:  Training Loss: 0.0072 Trainning Accuracy: 1.0000 Validation Accuracy:  0.6762\n",
      "Epoch 14, CIFAR-10 Batch 4:  Training Loss: 0.0102 Trainning Accuracy: 1.0000 Validation Accuracy:  0.6874\n",
      "Epoch 14, CIFAR-10 Batch 5:  Training Loss: 0.0065 Trainning Accuracy: 1.0000 Validation Accuracy:  0.6816\n",
      "Epoch 15, CIFAR-10 Batch 1:  Training Loss: 0.0183 Trainning Accuracy: 1.0000 Validation Accuracy:  0.6664\n",
      "Epoch 15, CIFAR-10 Batch 2:  Training Loss: 0.0145 Trainning Accuracy: 1.0000 Validation Accuracy:  0.6692\n",
      "Epoch 15, CIFAR-10 Batch 3:  Training Loss: 0.0128 Trainning Accuracy: 1.0000 Validation Accuracy:  0.6620\n",
      "Epoch 15, CIFAR-10 Batch 4:  Training Loss: 0.0109 Trainning Accuracy: 1.0000 Validation Accuracy:  0.6874\n",
      "Epoch 15, CIFAR-10 Batch 5:  Training Loss: 0.0080 Trainning Accuracy: 1.0000 Validation Accuracy:  0.6794\n",
      "Epoch 16, CIFAR-10 Batch 1:  Training Loss: 0.0128 Trainning Accuracy: 1.0000 Validation Accuracy:  0.6656\n",
      "Epoch 16, CIFAR-10 Batch 2:  Training Loss: 0.0066 Trainning Accuracy: 1.0000 Validation Accuracy:  0.6828\n",
      "Epoch 16, CIFAR-10 Batch 3:  Training Loss: 0.0051 Trainning Accuracy: 1.0000 Validation Accuracy:  0.6716\n",
      "Epoch 16, CIFAR-10 Batch 4:  Training Loss: 0.0099 Trainning Accuracy: 1.0000 Validation Accuracy:  0.6772\n",
      "Epoch 16, CIFAR-10 Batch 5:  Training Loss: 0.0075 Trainning Accuracy: 1.0000 Validation Accuracy:  0.6576\n",
      "Epoch 17, CIFAR-10 Batch 1:  Training Loss: 0.0146 Trainning Accuracy: 1.0000 Validation Accuracy:  0.6706\n",
      "Epoch 17, CIFAR-10 Batch 2:  Training Loss: 0.0048 Trainning Accuracy: 1.0000 Validation Accuracy:  0.6824\n",
      "Epoch 17, CIFAR-10 Batch 3:  Training Loss: 0.0018 Trainning Accuracy: 1.0000 Validation Accuracy:  0.6772\n",
      "Epoch 17, CIFAR-10 Batch 4:  Training Loss: 0.0096 Trainning Accuracy: 1.0000 Validation Accuracy:  0.6554\n",
      "Epoch 17, CIFAR-10 Batch 5:  Training Loss: 0.0051 Trainning Accuracy: 1.0000 Validation Accuracy:  0.6664\n",
      "Epoch 18, CIFAR-10 Batch 1:  Training Loss: 0.0080 Trainning Accuracy: 1.0000 Validation Accuracy:  0.6698\n",
      "Epoch 18, CIFAR-10 Batch 2:  Training Loss: 0.0109 Trainning Accuracy: 1.0000 Validation Accuracy:  0.6686\n",
      "Epoch 18, CIFAR-10 Batch 3:  Training Loss: 0.0014 Trainning Accuracy: 1.0000 Validation Accuracy:  0.6726\n",
      "Epoch 18, CIFAR-10 Batch 4:  Training Loss: 0.0061 Trainning Accuracy: 1.0000 Validation Accuracy:  0.6662\n",
      "Epoch 18, CIFAR-10 Batch 5:  Training Loss: 0.0017 Trainning Accuracy: 1.0000 Validation Accuracy:  0.6694\n",
      "Epoch 19, CIFAR-10 Batch 1:  Training Loss: 0.0099 Trainning Accuracy: 1.0000 Validation Accuracy:  0.6790\n",
      "Epoch 19, CIFAR-10 Batch 2:  Training Loss: 0.0049 Trainning Accuracy: 1.0000 Validation Accuracy:  0.6826\n",
      "Epoch 19, CIFAR-10 Batch 3:  Training Loss: 0.0021 Trainning Accuracy: 1.0000 Validation Accuracy:  0.6868\n",
      "Epoch 19, CIFAR-10 Batch 4:  Training Loss: 0.0043 Trainning Accuracy: 1.0000 Validation Accuracy:  0.6888\n",
      "Epoch 19, CIFAR-10 Batch 5:  Training Loss: 0.0043 Trainning Accuracy: 1.0000 Validation Accuracy:  0.6826\n",
      "Epoch 20, CIFAR-10 Batch 1:  Training Loss: 0.0066 Trainning Accuracy: 1.0000 Validation Accuracy:  0.6850\n",
      "Epoch 20, CIFAR-10 Batch 2:  Training Loss: 0.0040 Trainning Accuracy: 1.0000 Validation Accuracy:  0.6854\n",
      "Epoch 20, CIFAR-10 Batch 3:  Training Loss: 0.0015 Trainning Accuracy: 1.0000 Validation Accuracy:  0.6862\n",
      "Epoch 20, CIFAR-10 Batch 4:  Training Loss: 0.0023 Trainning Accuracy: 1.0000 Validation Accuracy:  0.6944\n",
      "Epoch 20, CIFAR-10 Batch 5:  Training Loss: 0.0014 Trainning Accuracy: 1.0000 Validation Accuracy:  0.6800\n",
      "Epoch 21, CIFAR-10 Batch 1:  Training Loss: 0.0026 Trainning Accuracy: 1.0000 Validation Accuracy:  0.6806\n",
      "Epoch 21, CIFAR-10 Batch 2:  Training Loss: 0.0041 Trainning Accuracy: 1.0000 Validation Accuracy:  0.6834\n",
      "Epoch 21, CIFAR-10 Batch 3:  Training Loss: 0.0015 Trainning Accuracy: 1.0000 Validation Accuracy:  0.6818\n",
      "Epoch 21, CIFAR-10 Batch 4:  Training Loss: 0.0025 Trainning Accuracy: 1.0000 Validation Accuracy:  0.6924\n",
      "Epoch 21, CIFAR-10 Batch 5:  Training Loss: 0.0007 Trainning Accuracy: 1.0000 Validation Accuracy:  0.6916\n",
      "Epoch 22, CIFAR-10 Batch 1:  Training Loss: 0.0055 Trainning Accuracy: 1.0000 Validation Accuracy:  0.6766\n",
      "Epoch 22, CIFAR-10 Batch 2:  Training Loss: 0.0031 Trainning Accuracy: 1.0000 Validation Accuracy:  0.6700\n",
      "Epoch 22, CIFAR-10 Batch 3:  Training Loss: 0.0054 Trainning Accuracy: 1.0000 Validation Accuracy:  0.6660\n",
      "Epoch 22, CIFAR-10 Batch 4:  Training Loss: 0.0016 Trainning Accuracy: 1.0000 Validation Accuracy:  0.6842\n",
      "Epoch 22, CIFAR-10 Batch 5:  Training Loss: 0.0025 Trainning Accuracy: 1.0000 Validation Accuracy:  0.6928\n",
      "Epoch 23, CIFAR-10 Batch 1:  Training Loss: 0.0070 Trainning Accuracy: 1.0000 Validation Accuracy:  0.6512\n",
      "Epoch 23, CIFAR-10 Batch 2:  Training Loss: 0.0015 Trainning Accuracy: 1.0000 Validation Accuracy:  0.6816\n",
      "Epoch 23, CIFAR-10 Batch 3:  Training Loss: 0.0004 Trainning Accuracy: 1.0000 Validation Accuracy:  0.6808\n",
      "Epoch 23, CIFAR-10 Batch 4:  Training Loss: 0.0017 Trainning Accuracy: 1.0000 Validation Accuracy:  0.6784\n",
      "Epoch 23, CIFAR-10 Batch 5:  Training Loss: 0.0005 Trainning Accuracy: 1.0000 Validation Accuracy:  0.6940\n",
      "Epoch 24, CIFAR-10 Batch 1:  Training Loss: 0.0031 Trainning Accuracy: 1.0000 Validation Accuracy:  0.6734\n",
      "Epoch 24, CIFAR-10 Batch 2:  Training Loss: 0.0011 Trainning Accuracy: 1.0000 Validation Accuracy:  0.6780\n",
      "Epoch 24, CIFAR-10 Batch 3:  Training Loss: 0.0009 Trainning Accuracy: 1.0000 Validation Accuracy:  0.6740\n",
      "Epoch 24, CIFAR-10 Batch 4:  Training Loss: 0.0033 Trainning Accuracy: 1.0000 Validation Accuracy:  0.6824\n",
      "Epoch 24, CIFAR-10 Batch 5:  Training Loss: 0.0022 Trainning Accuracy: 1.0000 Validation Accuracy:  0.6762\n",
      "Epoch 25, CIFAR-10 Batch 1:  Training Loss: 0.0006 Trainning Accuracy: 1.0000 Validation Accuracy:  0.6928\n",
      "Epoch 25, CIFAR-10 Batch 2:  Training Loss: 0.0008 Trainning Accuracy: 1.0000 Validation Accuracy:  0.6858\n",
      "Epoch 25, CIFAR-10 Batch 3:  Training Loss: 0.0005 Trainning Accuracy: 1.0000 Validation Accuracy:  0.6832\n",
      "Epoch 25, CIFAR-10 Batch 4:  Training Loss: 0.0017 Trainning Accuracy: 1.0000 Validation Accuracy:  0.6800\n",
      "Epoch 25, CIFAR-10 Batch 5:  Training Loss: 0.0003 Trainning Accuracy: 1.0000 Validation Accuracy:  0.6844\n",
      "Epoch 26, CIFAR-10 Batch 1:  Training Loss: 0.0011 Trainning Accuracy: 1.0000 Validation Accuracy:  0.6854\n",
      "Epoch 26, CIFAR-10 Batch 2:  Training Loss: 0.0020 Trainning Accuracy: 1.0000 Validation Accuracy:  0.6920\n",
      "Epoch 26, CIFAR-10 Batch 3:  Training Loss: 0.0003 Trainning Accuracy: 1.0000 Validation Accuracy:  0.6878\n",
      "Epoch 26, CIFAR-10 Batch 4:  Training Loss: 0.0011 Trainning Accuracy: 1.0000 Validation Accuracy:  0.6844\n",
      "Epoch 26, CIFAR-10 Batch 5:  Training Loss: 0.0023 Trainning Accuracy: 1.0000 Validation Accuracy:  0.6860\n",
      "Epoch 27, CIFAR-10 Batch 1:  Training Loss: 0.0006 Trainning Accuracy: 1.0000 Validation Accuracy:  0.6820\n",
      "Epoch 27, CIFAR-10 Batch 2:  Training Loss: 0.0005 Trainning Accuracy: 1.0000 Validation Accuracy:  0.6836\n",
      "Epoch 27, CIFAR-10 Batch 3:  Training Loss: 0.0004 Trainning Accuracy: 1.0000 Validation Accuracy:  0.6956\n",
      "Epoch 27, CIFAR-10 Batch 4:  Training Loss: 0.0008 Trainning Accuracy: 1.0000 Validation Accuracy:  0.6890\n",
      "Epoch 27, CIFAR-10 Batch 5:  Training Loss: 0.0003 Trainning Accuracy: 1.0000 Validation Accuracy:  0.6902\n",
      "Epoch 28, CIFAR-10 Batch 1:  Training Loss: 0.0005 Trainning Accuracy: 1.0000 Validation Accuracy:  0.6856\n",
      "Epoch 28, CIFAR-10 Batch 2:  Training Loss: 0.0004 Trainning Accuracy: 1.0000 Validation Accuracy:  0.6898\n",
      "Epoch 28, CIFAR-10 Batch 3:  Training Loss: 0.0002 Trainning Accuracy: 1.0000 Validation Accuracy:  0.6800\n",
      "Epoch 28, CIFAR-10 Batch 4:  Training Loss: 0.0008 Trainning Accuracy: 1.0000 Validation Accuracy:  0.6814\n",
      "Epoch 28, CIFAR-10 Batch 5:  Training Loss: 0.0003 Trainning Accuracy: 1.0000 Validation Accuracy:  0.6872\n",
      "Epoch 29, CIFAR-10 Batch 1:  Training Loss: 0.0005 Trainning Accuracy: 1.0000 Validation Accuracy:  0.6916\n",
      "Epoch 29, CIFAR-10 Batch 2:  Training Loss: 0.0008 Trainning Accuracy: 1.0000 Validation Accuracy:  0.6876\n",
      "Epoch 29, CIFAR-10 Batch 3:  Training Loss: 0.0001 Trainning Accuracy: 1.0000 Validation Accuracy:  0.6934\n",
      "Epoch 29, CIFAR-10 Batch 4:  Training Loss: 0.0006 Trainning Accuracy: 1.0000 Validation Accuracy:  0.6756\n",
      "Epoch 29, CIFAR-10 Batch 5:  Training Loss: 0.0002 Trainning Accuracy: 1.0000 Validation Accuracy:  0.6910\n",
      "Epoch 30, CIFAR-10 Batch 1:  Training Loss: 0.0002 Trainning Accuracy: 1.0000 Validation Accuracy:  0.6922\n",
      "Epoch 30, CIFAR-10 Batch 2:  Training Loss: 0.0003 Trainning Accuracy: 1.0000 Validation Accuracy:  0.6972\n",
      "Epoch 30, CIFAR-10 Batch 3:  Training Loss: 0.0004 Trainning Accuracy: 1.0000 Validation Accuracy:  0.7030\n",
      "Epoch 30, CIFAR-10 Batch 4:  Training Loss: 0.0006 Trainning Accuracy: 1.0000 Validation Accuracy:  0.6790\n",
      "Epoch 30, CIFAR-10 Batch 5:  Training Loss: 0.0005 Trainning Accuracy: 1.0000 Validation Accuracy:  0.6890\n",
      "Epoch 31, CIFAR-10 Batch 1:  Training Loss: 0.0002 Trainning Accuracy: 1.0000 Validation Accuracy:  0.6844\n",
      "Epoch 31, CIFAR-10 Batch 2:  Training Loss: 0.0004 Trainning Accuracy: 1.0000 Validation Accuracy:  0.6786\n",
      "Epoch 31, CIFAR-10 Batch 3:  Training Loss: 0.0002 Trainning Accuracy: 1.0000 Validation Accuracy:  0.6982\n",
      "Epoch 31, CIFAR-10 Batch 4:  Training Loss: 0.0001 Trainning Accuracy: 1.0000 Validation Accuracy:  0.6642\n",
      "Epoch 31, CIFAR-10 Batch 5:  Training Loss: 0.0003 Trainning Accuracy: 1.0000 Validation Accuracy:  0.6812\n",
      "Epoch 32, CIFAR-10 Batch 1:  Training Loss: 0.0006 Trainning Accuracy: 1.0000 Validation Accuracy:  0.6972\n",
      "Epoch 32, CIFAR-10 Batch 2:  Training Loss: 0.0001 Trainning Accuracy: 1.0000 Validation Accuracy:  0.6864\n",
      "Epoch 32, CIFAR-10 Batch 3:  Training Loss: 0.0002 Trainning Accuracy: 1.0000 Validation Accuracy:  0.7014\n",
      "Epoch 32, CIFAR-10 Batch 4:  Training Loss: 0.0001 Trainning Accuracy: 1.0000 Validation Accuracy:  0.6644\n",
      "Epoch 32, CIFAR-10 Batch 5:  Training Loss: 0.0003 Trainning Accuracy: 1.0000 Validation Accuracy:  0.6858\n",
      "Epoch 33, CIFAR-10 Batch 1:  Training Loss: 0.0002 Trainning Accuracy: 1.0000 Validation Accuracy:  0.6896\n",
      "Epoch 33, CIFAR-10 Batch 2:  Training Loss: 0.0001 Trainning Accuracy: 1.0000 Validation Accuracy:  0.6958\n",
      "Epoch 33, CIFAR-10 Batch 3:  Training Loss: 0.0002 Trainning Accuracy: 1.0000 Validation Accuracy:  0.7024\n",
      "Epoch 33, CIFAR-10 Batch 4:  Training Loss: 0.0000 Trainning Accuracy: 1.0000 Validation Accuracy:  0.6738\n",
      "Epoch 33, CIFAR-10 Batch 5:  Training Loss: 0.0011 Trainning Accuracy: 1.0000 Validation Accuracy:  0.6844\n",
      "Epoch 34, CIFAR-10 Batch 1:  Training Loss: 0.0019 Trainning Accuracy: 1.0000 Validation Accuracy:  0.6938\n",
      "Epoch 34, CIFAR-10 Batch 2:  Training Loss: 0.0001 Trainning Accuracy: 1.0000 Validation Accuracy:  0.6904\n",
      "Epoch 34, CIFAR-10 Batch 3:  Training Loss: 0.0001 Trainning Accuracy: 1.0000 Validation Accuracy:  0.7020\n",
      "Epoch 34, CIFAR-10 Batch 4:  Training Loss: 0.0001 Trainning Accuracy: 1.0000 Validation Accuracy:  0.6884\n",
      "Epoch 34, CIFAR-10 Batch 5:  Training Loss: 0.0002 Trainning Accuracy: 1.0000 Validation Accuracy:  0.6854\n",
      "Epoch 35, CIFAR-10 Batch 1:  Training Loss: 0.0001 Trainning Accuracy: 1.0000 Validation Accuracy:  0.6968\n",
      "Epoch 35, CIFAR-10 Batch 2:  Training Loss: 0.0002 Trainning Accuracy: 1.0000 Validation Accuracy:  0.6954\n",
      "Epoch 35, CIFAR-10 Batch 3:  Training Loss: 0.0002 Trainning Accuracy: 1.0000 Validation Accuracy:  0.7032\n",
      "Epoch 35, CIFAR-10 Batch 4:  Training Loss: 0.0001 Trainning Accuracy: 1.0000 Validation Accuracy:  0.6866\n",
      "Epoch 35, CIFAR-10 Batch 5:  Training Loss: 0.0001 Trainning Accuracy: 1.0000 Validation Accuracy:  0.6960\n",
      "Epoch 36, CIFAR-10 Batch 1:  Training Loss: 0.0002 Trainning Accuracy: 1.0000 Validation Accuracy:  0.6880\n",
      "Epoch 36, CIFAR-10 Batch 2:  Training Loss: 0.0003 Trainning Accuracy: 1.0000 Validation Accuracy:  0.6880\n",
      "Epoch 36, CIFAR-10 Batch 3:  Training Loss: 0.0004 Trainning Accuracy: 1.0000 Validation Accuracy:  0.7002\n",
      "Epoch 36, CIFAR-10 Batch 4:  Training Loss: 0.0000 Trainning Accuracy: 1.0000 Validation Accuracy:  0.6816\n",
      "Epoch 36, CIFAR-10 Batch 5:  Training Loss: 0.0003 Trainning Accuracy: 1.0000 Validation Accuracy:  0.6898\n",
      "Epoch 37, CIFAR-10 Batch 1:  Training Loss: 0.0003 Trainning Accuracy: 1.0000 Validation Accuracy:  0.6888\n",
      "Epoch 37, CIFAR-10 Batch 2:  Training Loss: 0.0003 Trainning Accuracy: 1.0000 Validation Accuracy:  0.6874\n",
      "Epoch 37, CIFAR-10 Batch 3:  Training Loss: 0.0003 Trainning Accuracy: 1.0000 Validation Accuracy:  0.6906\n",
      "Epoch 37, CIFAR-10 Batch 4:  Training Loss: 0.0000 Trainning Accuracy: 1.0000 Validation Accuracy:  0.6922\n",
      "Epoch 37, CIFAR-10 Batch 5:  Training Loss: 0.0004 Trainning Accuracy: 1.0000 Validation Accuracy:  0.6954\n",
      "Epoch 38, CIFAR-10 Batch 1:  Training Loss: 0.0002 Trainning Accuracy: 1.0000 Validation Accuracy:  0.6850\n",
      "Epoch 38, CIFAR-10 Batch 2:  Training Loss: 0.0003 Trainning Accuracy: 1.0000 Validation Accuracy:  0.6990\n",
      "Epoch 38, CIFAR-10 Batch 3:  Training Loss: 0.0001 Trainning Accuracy: 1.0000 Validation Accuracy:  0.7058\n",
      "Epoch 38, CIFAR-10 Batch 4:  Training Loss: 0.0000 Trainning Accuracy: 1.0000 Validation Accuracy:  0.6992\n",
      "Epoch 38, CIFAR-10 Batch 5:  Training Loss: 0.0002 Trainning Accuracy: 1.0000 Validation Accuracy:  0.6982\n",
      "Epoch 39, CIFAR-10 Batch 1:  Training Loss: 0.0003 Trainning Accuracy: 1.0000 Validation Accuracy:  0.6864\n",
      "Epoch 39, CIFAR-10 Batch 2:  Training Loss: 0.0001 Trainning Accuracy: 1.0000 Validation Accuracy:  0.6868\n",
      "Epoch 39, CIFAR-10 Batch 3:  Training Loss: 0.0000 Trainning Accuracy: 1.0000 Validation Accuracy:  0.6940\n",
      "Epoch 39, CIFAR-10 Batch 4:  Training Loss: 0.0000 Trainning Accuracy: 1.0000 Validation Accuracy:  0.6950\n",
      "Epoch 39, CIFAR-10 Batch 5:  Training Loss: 0.0002 Trainning Accuracy: 1.0000 Validation Accuracy:  0.7012\n",
      "Epoch 40, CIFAR-10 Batch 1:  Training Loss: 0.0000 Trainning Accuracy: 1.0000 Validation Accuracy:  0.6948\n",
      "Epoch 40, CIFAR-10 Batch 2:  Training Loss: 0.0004 Trainning Accuracy: 1.0000 Validation Accuracy:  0.6874\n",
      "Epoch 40, CIFAR-10 Batch 3:  Training Loss: 0.0000 Trainning Accuracy: 1.0000 Validation Accuracy:  0.6926\n",
      "Epoch 40, CIFAR-10 Batch 4:  Training Loss: 0.0005 Trainning Accuracy: 1.0000 Validation Accuracy:  0.6908\n",
      "Epoch 40, CIFAR-10 Batch 5:  Training Loss: 0.0002 Trainning Accuracy: 1.0000 Validation Accuracy:  0.6816\n",
      "Epoch 41, CIFAR-10 Batch 1:  Training Loss: 0.0004 Trainning Accuracy: 1.0000 Validation Accuracy:  0.6846\n",
      "Epoch 41, CIFAR-10 Batch 2:  Training Loss: 0.0001 Trainning Accuracy: 1.0000 Validation Accuracy:  0.6878\n",
      "Epoch 41, CIFAR-10 Batch 3:  Training Loss: 0.0000 Trainning Accuracy: 1.0000 Validation Accuracy:  0.6980\n",
      "Epoch 41, CIFAR-10 Batch 4:  Training Loss: 0.0001 Trainning Accuracy: 1.0000 Validation Accuracy:  0.6904\n",
      "Epoch 41, CIFAR-10 Batch 5:  Training Loss: 0.0001 Trainning Accuracy: 1.0000 Validation Accuracy:  0.6976\n",
      "Epoch 42, CIFAR-10 Batch 1:  Training Loss: 0.0001 Trainning Accuracy: 1.0000 Validation Accuracy:  0.6992\n",
      "Epoch 42, CIFAR-10 Batch 2:  Training Loss: 0.0000 Trainning Accuracy: 1.0000 Validation Accuracy:  0.7012\n",
      "Epoch 42, CIFAR-10 Batch 3:  Training Loss: 0.0001 Trainning Accuracy: 1.0000 Validation Accuracy:  0.6966\n",
      "Epoch 42, CIFAR-10 Batch 4:  Training Loss: 0.0002 Trainning Accuracy: 1.0000 Validation Accuracy:  0.6882\n",
      "Epoch 42, CIFAR-10 Batch 5:  Training Loss: 0.0001 Trainning Accuracy: 1.0000 Validation Accuracy:  0.6986\n",
      "Epoch 43, CIFAR-10 Batch 1:  Training Loss: 0.0002 Trainning Accuracy: 1.0000 Validation Accuracy:  0.6946\n",
      "Epoch 43, CIFAR-10 Batch 2:  Training Loss: 0.0001 Trainning Accuracy: 1.0000 Validation Accuracy:  0.6968\n",
      "Epoch 43, CIFAR-10 Batch 3:  Training Loss: 0.0000 Trainning Accuracy: 1.0000 Validation Accuracy:  0.6974\n",
      "Epoch 43, CIFAR-10 Batch 4:  Training Loss: 0.0002 Trainning Accuracy: 1.0000 Validation Accuracy:  0.6894\n",
      "Epoch 43, CIFAR-10 Batch 5:  Training Loss: 0.0005 Trainning Accuracy: 1.0000 Validation Accuracy:  0.7020\n",
      "Epoch 44, CIFAR-10 Batch 1:  Training Loss: 0.0001 Trainning Accuracy: 1.0000 Validation Accuracy:  0.6872\n",
      "Epoch 44, CIFAR-10 Batch 2:  Training Loss: 0.0000 Trainning Accuracy: 1.0000 Validation Accuracy:  0.6906\n",
      "Epoch 44, CIFAR-10 Batch 3:  Training Loss: 0.0001 Trainning Accuracy: 1.0000 Validation Accuracy:  0.6880\n",
      "Epoch 44, CIFAR-10 Batch 4:  Training Loss: 0.0001 Trainning Accuracy: 1.0000 Validation Accuracy:  0.6836\n",
      "Epoch 44, CIFAR-10 Batch 5:  Training Loss: 0.0000 Trainning Accuracy: 1.0000 Validation Accuracy:  0.6984\n",
      "Epoch 45, CIFAR-10 Batch 1:  Training Loss: 0.0005 Trainning Accuracy: 1.0000 Validation Accuracy:  0.7042\n",
      "Epoch 45, CIFAR-10 Batch 2:  Training Loss: 0.0000 Trainning Accuracy: 1.0000 Validation Accuracy:  0.6922\n",
      "Epoch 45, CIFAR-10 Batch 3:  Training Loss: 0.0002 Trainning Accuracy: 1.0000 Validation Accuracy:  0.6882\n",
      "Epoch 45, CIFAR-10 Batch 4:  Training Loss: 0.0003 Trainning Accuracy: 1.0000 Validation Accuracy:  0.6844\n",
      "Epoch 45, CIFAR-10 Batch 5:  Training Loss: 0.0001 Trainning Accuracy: 1.0000 Validation Accuracy:  0.6930\n",
      "Epoch 46, CIFAR-10 Batch 1:  Training Loss: 0.0003 Trainning Accuracy: 1.0000 Validation Accuracy:  0.6934\n",
      "Epoch 46, CIFAR-10 Batch 2:  Training Loss: 0.0000 Trainning Accuracy: 1.0000 Validation Accuracy:  0.7046\n",
      "Epoch 46, CIFAR-10 Batch 3:  Training Loss: 0.0000 Trainning Accuracy: 1.0000 Validation Accuracy:  0.6954\n",
      "Epoch 46, CIFAR-10 Batch 4:  Training Loss: 0.0001 Trainning Accuracy: 1.0000 Validation Accuracy:  0.6970\n",
      "Epoch 46, CIFAR-10 Batch 5:  Training Loss: 0.0002 Trainning Accuracy: 1.0000 Validation Accuracy:  0.6812\n",
      "Epoch 47, CIFAR-10 Batch 1:  Training Loss: 0.0003 Trainning Accuracy: 1.0000 Validation Accuracy:  0.6892\n",
      "Epoch 47, CIFAR-10 Batch 2:  Training Loss: 0.0001 Trainning Accuracy: 1.0000 Validation Accuracy:  0.6922\n",
      "Epoch 47, CIFAR-10 Batch 3:  Training Loss: 0.0001 Trainning Accuracy: 1.0000 Validation Accuracy:  0.6956\n",
      "Epoch 47, CIFAR-10 Batch 4:  Training Loss: 0.0000 Trainning Accuracy: 1.0000 Validation Accuracy:  0.6958\n",
      "Epoch 47, CIFAR-10 Batch 5:  Training Loss: 0.0001 Trainning Accuracy: 1.0000 Validation Accuracy:  0.6870\n",
      "Epoch 48, CIFAR-10 Batch 1:  Training Loss: 0.0001 Trainning Accuracy: 1.0000 Validation Accuracy:  0.6922\n",
      "Epoch 48, CIFAR-10 Batch 2:  Training Loss: 0.0003 Trainning Accuracy: 1.0000 Validation Accuracy:  0.7006\n",
      "Epoch 48, CIFAR-10 Batch 3:  Training Loss: 0.0001 Trainning Accuracy: 1.0000 Validation Accuracy:  0.6976\n",
      "Epoch 48, CIFAR-10 Batch 4:  Training Loss: 0.0001 Trainning Accuracy: 1.0000 Validation Accuracy:  0.7002\n",
      "Epoch 48, CIFAR-10 Batch 5:  Training Loss: 0.0000 Trainning Accuracy: 1.0000 Validation Accuracy:  0.6894\n",
      "Epoch 49, CIFAR-10 Batch 1:  Training Loss: 0.0000 Trainning Accuracy: 1.0000 Validation Accuracy:  0.6934\n",
      "Epoch 49, CIFAR-10 Batch 2:  Training Loss: 0.0002 Trainning Accuracy: 1.0000 Validation Accuracy:  0.6950\n",
      "Epoch 49, CIFAR-10 Batch 3:  Training Loss: 0.0001 Trainning Accuracy: 1.0000 Validation Accuracy:  0.6918\n",
      "Epoch 49, CIFAR-10 Batch 4:  Training Loss: 0.0002 Trainning Accuracy: 1.0000 Validation Accuracy:  0.6970\n",
      "Epoch 49, CIFAR-10 Batch 5:  Training Loss: 0.0000 Trainning Accuracy: 1.0000 Validation Accuracy:  0.6896\n",
      "Epoch 50, CIFAR-10 Batch 1:  Training Loss: 0.0001 Trainning Accuracy: 1.0000 Validation Accuracy:  0.6924\n",
      "Epoch 50, CIFAR-10 Batch 2:  Training Loss: 0.0002 Trainning Accuracy: 1.0000 Validation Accuracy:  0.7004\n",
      "Epoch 50, CIFAR-10 Batch 3:  Training Loss: 0.0001 Trainning Accuracy: 1.0000 Validation Accuracy:  0.6888\n",
      "Epoch 50, CIFAR-10 Batch 4:  Training Loss: 0.0000 Trainning Accuracy: 1.0000 Validation Accuracy:  0.6938\n",
      "Epoch 50, CIFAR-10 Batch 5:  Training Loss: 0.0000 Trainning Accuracy: 1.0000 Validation Accuracy:  0.6758\n",
      "Epoch 51, CIFAR-10 Batch 1:  Training Loss: 0.0002 Trainning Accuracy: 1.0000 Validation Accuracy:  0.6974\n",
      "Epoch 51, CIFAR-10 Batch 2:  Training Loss: 0.0001 Trainning Accuracy: 1.0000 Validation Accuracy:  0.6944\n",
      "Epoch 51, CIFAR-10 Batch 3:  Training Loss: 0.0001 Trainning Accuracy: 1.0000 Validation Accuracy:  0.6906\n",
      "Epoch 51, CIFAR-10 Batch 4:  Training Loss: 0.0000 Trainning Accuracy: 1.0000 Validation Accuracy:  0.6938\n",
      "Epoch 51, CIFAR-10 Batch 5:  Training Loss: 0.0002 Trainning Accuracy: 1.0000 Validation Accuracy:  0.6820\n",
      "Epoch 52, CIFAR-10 Batch 1:  Training Loss: 0.0000 Trainning Accuracy: 1.0000 Validation Accuracy:  0.6914\n",
      "Epoch 52, CIFAR-10 Batch 2:  Training Loss: 0.0001 Trainning Accuracy: 1.0000 Validation Accuracy:  0.6948\n",
      "Epoch 52, CIFAR-10 Batch 3:  Training Loss: 0.0000 Trainning Accuracy: 1.0000 Validation Accuracy:  0.6940\n",
      "Epoch 52, CIFAR-10 Batch 4:  Training Loss: 0.0000 Trainning Accuracy: 1.0000 Validation Accuracy:  0.6934\n",
      "Epoch 52, CIFAR-10 Batch 5:  Training Loss: 0.0001 Trainning Accuracy: 1.0000 Validation Accuracy:  0.6920\n",
      "Epoch 53, CIFAR-10 Batch 1:  Training Loss: 0.0000 Trainning Accuracy: 1.0000 Validation Accuracy:  0.6942\n",
      "Epoch 53, CIFAR-10 Batch 2:  Training Loss: 0.0000 Trainning Accuracy: 1.0000 Validation Accuracy:  0.6938\n",
      "Epoch 53, CIFAR-10 Batch 3:  Training Loss: 0.0000 Trainning Accuracy: 1.0000 Validation Accuracy:  0.6912\n",
      "Epoch 53, CIFAR-10 Batch 4:  Training Loss: 0.0000 Trainning Accuracy: 1.0000 Validation Accuracy:  0.6942\n",
      "Epoch 53, CIFAR-10 Batch 5:  Training Loss: 0.0000 Trainning Accuracy: 1.0000 Validation Accuracy:  0.6896\n",
      "Epoch 54, CIFAR-10 Batch 1:  Training Loss: 0.0000 Trainning Accuracy: 1.0000 Validation Accuracy:  0.6944\n",
      "Epoch 54, CIFAR-10 Batch 2:  Training Loss: 0.0000 Trainning Accuracy: 1.0000 Validation Accuracy:  0.6990\n",
      "Epoch 54, CIFAR-10 Batch 3:  Training Loss: 0.0000 Trainning Accuracy: 1.0000 Validation Accuracy:  0.6992\n",
      "Epoch 54, CIFAR-10 Batch 4:  Training Loss: 0.0001 Trainning Accuracy: 1.0000 Validation Accuracy:  0.6952\n",
      "Epoch 54, CIFAR-10 Batch 5:  Training Loss: 0.0001 Trainning Accuracy: 1.0000 Validation Accuracy:  0.6876\n",
      "Epoch 55, CIFAR-10 Batch 1:  Training Loss: 0.0000 Trainning Accuracy: 1.0000 Validation Accuracy:  0.6934\n",
      "Epoch 55, CIFAR-10 Batch 2:  Training Loss: 0.0002 Trainning Accuracy: 1.0000 Validation Accuracy:  0.6942\n",
      "Epoch 55, CIFAR-10 Batch 3:  Training Loss: 0.0001 Trainning Accuracy: 1.0000 Validation Accuracy:  0.6864\n",
      "Epoch 55, CIFAR-10 Batch 4:  Training Loss: 0.0000 Trainning Accuracy: 1.0000 Validation Accuracy:  0.6918\n",
      "Epoch 55, CIFAR-10 Batch 5:  Training Loss: 0.0000 Trainning Accuracy: 1.0000 Validation Accuracy:  0.6916\n",
      "Epoch 56, CIFAR-10 Batch 1:  Training Loss: 0.0000 Trainning Accuracy: 1.0000 Validation Accuracy:  0.6838\n",
      "Epoch 56, CIFAR-10 Batch 2:  Training Loss: 0.0001 Trainning Accuracy: 1.0000 Validation Accuracy:  0.6946\n",
      "Epoch 56, CIFAR-10 Batch 3:  Training Loss: 0.0000 Trainning Accuracy: 1.0000 Validation Accuracy:  0.6978\n",
      "Epoch 56, CIFAR-10 Batch 4:  Training Loss: 0.0000 Trainning Accuracy: 1.0000 Validation Accuracy:  0.6956\n",
      "Epoch 56, CIFAR-10 Batch 5:  Training Loss: 0.0000 Trainning Accuracy: 1.0000 Validation Accuracy:  0.7040\n",
      "Epoch 57, CIFAR-10 Batch 1:  Training Loss: 0.0000 Trainning Accuracy: 1.0000 Validation Accuracy:  0.6994\n",
      "Epoch 57, CIFAR-10 Batch 2:  Training Loss: 0.0000 Trainning Accuracy: 1.0000 Validation Accuracy:  0.6980\n",
      "Epoch 57, CIFAR-10 Batch 3:  Training Loss: 0.0000 Trainning Accuracy: 1.0000 Validation Accuracy:  0.6962\n",
      "Epoch 57, CIFAR-10 Batch 4:  Training Loss: 0.0000 Trainning Accuracy: 1.0000 Validation Accuracy:  0.6946\n",
      "Epoch 57, CIFAR-10 Batch 5:  Training Loss: 0.0000 Trainning Accuracy: 1.0000 Validation Accuracy:  0.6992\n",
      "Epoch 58, CIFAR-10 Batch 1:  Training Loss: 0.0000 Trainning Accuracy: 1.0000 Validation Accuracy:  0.7006\n",
      "Epoch 58, CIFAR-10 Batch 2:  Training Loss: 0.0000 Trainning Accuracy: 1.0000 Validation Accuracy:  0.6986\n",
      "Epoch 58, CIFAR-10 Batch 3:  Training Loss: 0.0000 Trainning Accuracy: 1.0000 Validation Accuracy:  0.6996\n",
      "Epoch 58, CIFAR-10 Batch 4:  Training Loss: 0.0000 Trainning Accuracy: 1.0000 Validation Accuracy:  0.6958\n",
      "Epoch 58, CIFAR-10 Batch 5:  Training Loss: 0.0000 Trainning Accuracy: 1.0000 Validation Accuracy:  0.6782\n",
      "Epoch 59, CIFAR-10 Batch 1:  Training Loss: 0.0000 Trainning Accuracy: 1.0000 Validation Accuracy:  0.6864\n",
      "Epoch 59, CIFAR-10 Batch 2:  Training Loss: 0.0000 Trainning Accuracy: 1.0000 Validation Accuracy:  0.6962\n",
      "Epoch 59, CIFAR-10 Batch 3:  Training Loss: 0.0000 Trainning Accuracy: 1.0000 Validation Accuracy:  0.6916\n",
      "Epoch 59, CIFAR-10 Batch 4:  Training Loss: 0.0000 Trainning Accuracy: 1.0000 Validation Accuracy:  0.6986\n",
      "Epoch 59, CIFAR-10 Batch 5:  Training Loss: 0.0000 Trainning Accuracy: 1.0000 Validation Accuracy:  0.7016\n",
      "Epoch 60, CIFAR-10 Batch 1:  Training Loss: 0.0001 Trainning Accuracy: 1.0000 Validation Accuracy:  0.6956\n",
      "Epoch 60, CIFAR-10 Batch 2:  Training Loss: 0.0000 Trainning Accuracy: 1.0000 Validation Accuracy:  0.6964\n",
      "Epoch 60, CIFAR-10 Batch 3:  Training Loss: 0.0000 Trainning Accuracy: 1.0000 Validation Accuracy:  0.7036\n",
      "Epoch 60, CIFAR-10 Batch 4:  Training Loss: 0.0000 Trainning Accuracy: 1.0000 Validation Accuracy:  0.6850\n",
      "Epoch 60, CIFAR-10 Batch 5:  Training Loss: 0.0000 Trainning Accuracy: 1.0000 Validation Accuracy:  0.7000\n"
     ]
    }
   ],
   "source": [
    "\"\"\"\n",
    "DON'T MODIFY ANYTHING IN THIS CELL\n",
    "\"\"\"\n",
    "save_model_path = './image_classification'\n",
    "\n",
    "print('Training...')\n",
    "with tf.Session() as sess:\n",
    "    # Initializing the variables\n",
    "    sess.run(tf.global_variables_initializer())\n",
    "    \n",
    "    # Training cycle\n",
    "    for epoch in range(epochs):\n",
    "        # Loop over all batches\n",
    "        n_batches = 5\n",
    "        for batch_i in range(1, n_batches + 1):\n",
    "            for batch_features, batch_labels in helper.load_preprocess_training_batch(batch_i, batch_size):\n",
    "                train_neural_network(sess, optimizer, keep_probability, batch_features, batch_labels)\n",
    "            print('Epoch {:>2}, CIFAR-10 Batch {}:  '.format(epoch + 1, batch_i), end='')\n",
    "            print_stats(sess, batch_features, batch_labels, cost, accuracy)\n",
    "            \n",
    "    # Save Model\n",
    "    saver = tf.train.Saver()\n",
    "    save_path = saver.save(sess, save_model_path)"
   ]
  },
  {
   "cell_type": "markdown",
   "metadata": {
    "deletable": true,
    "editable": true
   },
   "source": [
    "# Checkpoint\n",
    "The model has been saved to disk.\n",
    "## Test Model\n",
    "Test your model against the test dataset.  This will be your final accuracy. You should have an accuracy greater than 50%. If you don't, keep tweaking the model architecture and parameters."
   ]
  },
  {
   "cell_type": "code",
   "execution_count": 358,
   "metadata": {
    "collapsed": false,
    "deletable": true,
    "editable": true
   },
   "outputs": [
    {
     "name": "stdout",
     "output_type": "stream",
     "text": [
      "Testing Accuracy: 0.69150390625\n",
      "\n"
     ]
    },
    {
     "data": {
      "image/png": "[encoded data removed]",
      "text/plain": [
       "<matplotlib.figure.Figure at 0x7f2c927455c0>"
      ]
     },
     "metadata": {
      "image/png": {
       "height": 319,
       "width": 353
      }
     },
     "output_type": "display_data"
    }
   ],
   "source": [
    "\"\"\"\n",
    "DON'T MODIFY ANYTHING IN THIS CELL\n",
    "\"\"\"\n",
    "%matplotlib inline\n",
    "%config InlineBackend.figure_format = 'retina'\n",
    "\n",
    "import tensorflow as tf\n",
    "import pickle\n",
    "import helper\n",
    "import random\n",
    "\n",
    "# Set batch size if not already set\n",
    "try:\n",
    "    if batch_size:\n",
    "        pass\n",
    "except NameError:\n",
    "    batch_size = 64\n",
    "\n",
    "save_model_path = './image_classification'\n",
    "n_samples = 4\n",
    "top_n_predictions = 3\n",
    "\n",
    "def test_model():\n",
    "    \"\"\"\n",
    "    Test the saved model against the test dataset\n",
    "    \"\"\"\n",
    "\n",
    "    test_features, test_labels = pickle.load(open('preprocess_training.p', mode='rb'))\n",
    "    loaded_graph = tf.Graph()\n",
    "\n",
    "    with tf.Session(graph=loaded_graph) as sess:\n",
    "        # Load model\n",
    "        loader = tf.train.import_meta_graph(save_model_path + '.meta')\n",
    "        loader.restore(sess, save_model_path)\n",
    "\n",
    "        # Get Tensors from loaded model\n",
    "        loaded_x = loaded_graph.get_tensor_by_name('x:0')\n",
    "        loaded_y = loaded_graph.get_tensor_by_name('y:0')\n",
    "        loaded_keep_prob = loaded_graph.get_tensor_by_name('keep_prob:0')\n",
    "        loaded_logits = loaded_graph.get_tensor_by_name('logits:0')\n",
    "        loaded_acc = loaded_graph.get_tensor_by_name('accuracy:0')\n",
    "        \n",
    "        # Get accuracy in batches for memory limitations\n",
    "        test_batch_acc_total = 0\n",
    "        test_batch_count = 0\n",
    "        \n",
    "        for train_feature_batch, train_label_batch in helper.batch_features_labels(test_features, test_labels, batch_size):\n",
    "            test_batch_acc_total += sess.run(\n",
    "                loaded_acc,\n",
    "                feed_dict={loaded_x: train_feature_batch, loaded_y: train_label_batch, loaded_keep_prob: 1.0})\n",
    "            test_batch_count += 1\n",
    "\n",
    "        print('Testing Accuracy: {}\\n'.format(test_batch_acc_total/test_batch_count))\n",
    "\n",
    "        # Print Random Samples\n",
    "        random_test_features, random_test_labels = tuple(zip(*random.sample(list(zip(test_features, test_labels)), n_samples)))\n",
    "        random_test_predictions = sess.run(\n",
    "            tf.nn.top_k(tf.nn.softmax(loaded_logits), top_n_predictions),\n",
    "            feed_dict={loaded_x: random_test_features, loaded_y: random_test_labels, loaded_keep_prob: 1.0})\n",
    "        helper.display_image_predictions(random_test_features, random_test_labels, random_test_predictions)\n",
    "\n",
    "\n",
    "test_model()"
   ]
  },
  {
   "cell_type": "markdown",
   "metadata": {
    "deletable": true,
    "editable": true
   },
   "source": [
    "## Why 50-70% Accuracy?\n",
    "You might be wondering why you can't get an accuracy any higher. First things first, 50% isn't bad for a simple CNN.  Pure guessing would get you 10% accuracy. However, you might notice people are getting scores [well above 70%](http://rodrigob.github.io/are_we_there_yet/build/classification_datasets_results.html#43494641522d3130).  That's because we haven't taught you all there is to know about neural networks. We still need to cover a few more techniques.\n",
    "## Submitting This Project\n",
    "When submitting this project, make sure to run all the cells before saving the notebook.  Save the notebook file as \"dlnd_image_classification.ipynb\" and save it as a HTML file under \"File\" -> \"Download as\".  Include the \"helper.py\" and \"problem_unittests.py\" files in your submission."
   ]
  }
 ],
 "metadata": {
  "kernelspec": {
   "display_name": "Python 3",
   "language": "python",
   "name": "python3"
  },
  "language_info": {
   "codemirror_mode": {
    "name": "ipython",
    "version": 3
   },
   "file_extension": ".py",
   "mimetype": "text/x-python",
   "name": "python",
   "nbconvert_exporter": "python",
   "pygments_lexer": "ipython3",
   "version": "3.5.3"
  }
 },
 "nbformat": 4,
 "nbformat_minor": 0
}
